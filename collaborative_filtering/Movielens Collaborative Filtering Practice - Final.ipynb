{
 "cells": [
  {
   "cell_type": "markdown",
   "metadata": {},
   "source": [
    "# Required Libraries\n",
    "\n",
    "There are quite a few libraries and toolkits in Python that provide implementations of various algorithms that you can use to build a recommender.\n",
    "\n",
    "For this particular exercise, I am going to use [Surprise](https://github.com/NicolasHug/Surprise).Surprise is a Python SciKit that comes with various recommender algorithms and similarity metrics to make it easy to build and analyze recommenders.\n",
    "\n",
    "**Note:** If for any reason you prefer to use another library that you are more familiar with or you want to explore, feel free!\n",
    "\n",
    "Here’s how to install it using pip (more info about the installation on the [Surprise documentation](http://surpriselib.com/)):"
   ]
  },
  {
   "cell_type": "code",
   "execution_count": null,
   "metadata": {},
   "outputs": [],
   "source": [
    "! pip install numpy # Numpy is required by surprise\n",
    "! pip install scikit-surprise"
   ]
  },
  {
   "cell_type": "markdown",
   "metadata": {},
   "source": [
    "# MovieLens 100K\n",
    "\n",
    "We’ll be working with the well known [MovieLens 100K Dataset](https://grouplens.org/datasets/movielens/). This dataset is the smaller version of the MovieLense movie recommendation dataset, a de-facto standard for the evaluation of recommendation systems.\n",
    "\n",
    "The dataset includes 100K user ratings about a collection of movies. While this is not the most advanced, neither the most realistic recommendation dataset, it has been masively used for experimentation, what gives you the opportunity to compare your system with the literature of recommender systems.\n",
    "\n",
    "Additionally, this is a nice starting point to familiarize with the recommendation problem."
   ]
  },
  {
   "cell_type": "markdown",
   "metadata": {},
   "source": [
    "# Read Data\n",
    "\n",
    "Please, download the dataset from the following [link](http://files.grouplens.org/datasets/movielens/ml-100k.zip) and unzip it.\n",
    "\n",
    "The dataset provides different files (you can check the README for more information), but we are only interested in the u.data (ratings) and the u.item (description of the movies for a more readable list of results)."
   ]
  },
  {
   "cell_type": "code",
   "execution_count": 1,
   "metadata": {},
   "outputs": [],
   "source": [
    "import pandas as pd\n",
    "\n",
    "# Please ensure to update the filepath to where you have unizipped it.\n",
    "ratings = pd.read_csv('ml-100k/u.data', sep='\\t', error_bad_lines=False, encoding=\"latin-1\", header=None)\n",
    "ratings.columns = ['userID', 'itemID', 'rating', 'timestamp']\n",
    "\n",
    "# Please ensure to update the filepath to where you have unizipped it.\n",
    "movies = pd.read_csv('ml-100k/u.item', sep='|', error_bad_lines=False, encoding=\"latin-1\", header=None)[[0,1]]\n",
    "movies.columns = ['itemID', 'title']\n",
    "\n",
    "# Merge both datasets together to facilitate their use\n",
    "df = pd.merge(ratings, movies, on='itemID', how='inner')[['userID','title','rating']]"
   ]
  },
  {
   "cell_type": "markdown",
   "metadata": {},
   "source": [
    "Let's quickly visualize the dataset to ensure that everything looks good"
   ]
  },
  {
   "cell_type": "code",
   "execution_count": 2,
   "metadata": {},
   "outputs": [
    {
     "name": "stdout",
     "output_type": "stream",
     "text": [
      "Dataset shape: (100000, 3)\n",
      "-Dataset examples-\n",
      "       userID                         title  rating\n",
      "0         196                  Kolya (1996)       3\n",
      "20000     610  2001: A Space Odyssey (1968)       3\n",
      "40000     592                Kingpin (1996)       5\n",
      "60000     435               Supercop (1992)       3\n",
      "80000      87         Batman & Robin (1997)       4\n"
     ]
    }
   ],
   "source": [
    "print('Dataset shape: {}'.format(df.shape))\n",
    "print('-Dataset examples-')\n",
    "print(df.iloc[::20000, :])"
   ]
  },
  {
   "cell_type": "markdown",
   "metadata": {},
   "source": [
    "# Analyze the data\n",
    "\n",
    "Before starting to work with the data I would like to take a quick view at it. I strongly encourage you to always perform this step to be sure that the data that you have makes sense, that you do not have any format problem or error you need to correct and to perform a first analysis to understand if the data you have will be enought to create a recommender system (or to go for a simpler approach).\n",
    "\n",
    "This step is highly speculative and it's mainly based on your expertise, but there are some things in which we can focus"
   ]
  },
  {
   "cell_type": "markdown",
   "metadata": {},
   "source": [
    "### Ratings distribution\n",
    "\n",
    "The first thing is to analyze the distribution of ratings to understand among other things:\n",
    "\n",
    "- The rating scale: is it 0-5, 1-5, 1-10....\n",
    "- The distribution of the ratings: are the users biased to high or low rates?\n",
    "- Are the users using the entire rating scale? e.g.: sometimes people performs binary ratings even if you provide them with a more granular scale (5 good, 1 bad and nothing in between)\n",
    "\n",
    "**Note:** Don't be scared by the following code. Basically, I am counting the number of times each rating occurs in the dataset and plot the data in a fancy plotly histogram that you can interact with. If you are not very well versed in Python, you can just perform the counting an print the results"
   ]
  },
  {
   "cell_type": "code",
   "execution_count": 3,
   "metadata": {},
   "outputs": [
    {
     "data": {
      "text/html": [
       "        <script type=\"text/javascript\">\n",
       "        window.PlotlyConfig = {MathJaxConfig: 'local'};\n",
       "        if (window.MathJax) {MathJax.Hub.Config({SVG: {font: \"STIX-Web\"}});}\n",
       "        if (typeof require !== 'undefined') {\n",
       "        require.undef(\"plotly\");\n",
       "        requirejs.config({\n",
       "            paths: {\n",
       "                'plotly': ['https://cdn.plot.ly/plotly-latest.min']\n",
       "            }\n",
       "        });\n",
       "        require(['plotly'], function(Plotly) {\n",
       "            window._Plotly = Plotly;\n",
       "        });\n",
       "        }\n",
       "        </script>\n",
       "        "
      ]
     },
     "metadata": {},
     "output_type": "display_data"
    },
    {
     "data": {
      "application/vnd.plotly.v1+json": {
       "config": {
        "linkText": "Export to plot.ly",
        "plotlyServerURL": "https://plot.ly",
        "showLink": false
       },
       "data": [
        {
         "text": [
          "21.2 %",
          "34.2 %",
          "27.1 %",
          "11.4 %",
          "6.1 %"
         ],
         "textfont": {
          "color": "#000000"
         },
         "textposition": "auto",
         "type": "bar",
         "x": [
          5,
          4,
          3,
          2,
          1
         ],
         "y": [
          21201,
          34174,
          27145,
          11370,
          6110
         ]
        }
       ],
       "layout": {
        "template": {
         "data": {
          "bar": [
           {
            "error_x": {
             "color": "#2a3f5f"
            },
            "error_y": {
             "color": "#2a3f5f"
            },
            "marker": {
             "line": {
              "color": "#E5ECF6",
              "width": 0.5
             }
            },
            "type": "bar"
           }
          ],
          "barpolar": [
           {
            "marker": {
             "line": {
              "color": "#E5ECF6",
              "width": 0.5
             }
            },
            "type": "barpolar"
           }
          ],
          "carpet": [
           {
            "aaxis": {
             "endlinecolor": "#2a3f5f",
             "gridcolor": "white",
             "linecolor": "white",
             "minorgridcolor": "white",
             "startlinecolor": "#2a3f5f"
            },
            "baxis": {
             "endlinecolor": "#2a3f5f",
             "gridcolor": "white",
             "linecolor": "white",
             "minorgridcolor": "white",
             "startlinecolor": "#2a3f5f"
            },
            "type": "carpet"
           }
          ],
          "choropleth": [
           {
            "colorbar": {
             "outlinewidth": 0,
             "ticks": ""
            },
            "type": "choropleth"
           }
          ],
          "contour": [
           {
            "colorbar": {
             "outlinewidth": 0,
             "ticks": ""
            },
            "colorscale": [
             [
              0,
              "#0d0887"
             ],
             [
              0.1111111111111111,
              "#46039f"
             ],
             [
              0.2222222222222222,
              "#7201a8"
             ],
             [
              0.3333333333333333,
              "#9c179e"
             ],
             [
              0.4444444444444444,
              "#bd3786"
             ],
             [
              0.5555555555555556,
              "#d8576b"
             ],
             [
              0.6666666666666666,
              "#ed7953"
             ],
             [
              0.7777777777777778,
              "#fb9f3a"
             ],
             [
              0.8888888888888888,
              "#fdca26"
             ],
             [
              1,
              "#f0f921"
             ]
            ],
            "type": "contour"
           }
          ],
          "contourcarpet": [
           {
            "colorbar": {
             "outlinewidth": 0,
             "ticks": ""
            },
            "type": "contourcarpet"
           }
          ],
          "heatmap": [
           {
            "colorbar": {
             "outlinewidth": 0,
             "ticks": ""
            },
            "colorscale": [
             [
              0,
              "#0d0887"
             ],
             [
              0.1111111111111111,
              "#46039f"
             ],
             [
              0.2222222222222222,
              "#7201a8"
             ],
             [
              0.3333333333333333,
              "#9c179e"
             ],
             [
              0.4444444444444444,
              "#bd3786"
             ],
             [
              0.5555555555555556,
              "#d8576b"
             ],
             [
              0.6666666666666666,
              "#ed7953"
             ],
             [
              0.7777777777777778,
              "#fb9f3a"
             ],
             [
              0.8888888888888888,
              "#fdca26"
             ],
             [
              1,
              "#f0f921"
             ]
            ],
            "type": "heatmap"
           }
          ],
          "heatmapgl": [
           {
            "colorbar": {
             "outlinewidth": 0,
             "ticks": ""
            },
            "colorscale": [
             [
              0,
              "#0d0887"
             ],
             [
              0.1111111111111111,
              "#46039f"
             ],
             [
              0.2222222222222222,
              "#7201a8"
             ],
             [
              0.3333333333333333,
              "#9c179e"
             ],
             [
              0.4444444444444444,
              "#bd3786"
             ],
             [
              0.5555555555555556,
              "#d8576b"
             ],
             [
              0.6666666666666666,
              "#ed7953"
             ],
             [
              0.7777777777777778,
              "#fb9f3a"
             ],
             [
              0.8888888888888888,
              "#fdca26"
             ],
             [
              1,
              "#f0f921"
             ]
            ],
            "type": "heatmapgl"
           }
          ],
          "histogram": [
           {
            "marker": {
             "colorbar": {
              "outlinewidth": 0,
              "ticks": ""
             }
            },
            "type": "histogram"
           }
          ],
          "histogram2d": [
           {
            "colorbar": {
             "outlinewidth": 0,
             "ticks": ""
            },
            "colorscale": [
             [
              0,
              "#0d0887"
             ],
             [
              0.1111111111111111,
              "#46039f"
             ],
             [
              0.2222222222222222,
              "#7201a8"
             ],
             [
              0.3333333333333333,
              "#9c179e"
             ],
             [
              0.4444444444444444,
              "#bd3786"
             ],
             [
              0.5555555555555556,
              "#d8576b"
             ],
             [
              0.6666666666666666,
              "#ed7953"
             ],
             [
              0.7777777777777778,
              "#fb9f3a"
             ],
             [
              0.8888888888888888,
              "#fdca26"
             ],
             [
              1,
              "#f0f921"
             ]
            ],
            "type": "histogram2d"
           }
          ],
          "histogram2dcontour": [
           {
            "colorbar": {
             "outlinewidth": 0,
             "ticks": ""
            },
            "colorscale": [
             [
              0,
              "#0d0887"
             ],
             [
              0.1111111111111111,
              "#46039f"
             ],
             [
              0.2222222222222222,
              "#7201a8"
             ],
             [
              0.3333333333333333,
              "#9c179e"
             ],
             [
              0.4444444444444444,
              "#bd3786"
             ],
             [
              0.5555555555555556,
              "#d8576b"
             ],
             [
              0.6666666666666666,
              "#ed7953"
             ],
             [
              0.7777777777777778,
              "#fb9f3a"
             ],
             [
              0.8888888888888888,
              "#fdca26"
             ],
             [
              1,
              "#f0f921"
             ]
            ],
            "type": "histogram2dcontour"
           }
          ],
          "mesh3d": [
           {
            "colorbar": {
             "outlinewidth": 0,
             "ticks": ""
            },
            "type": "mesh3d"
           }
          ],
          "parcoords": [
           {
            "line": {
             "colorbar": {
              "outlinewidth": 0,
              "ticks": ""
             }
            },
            "type": "parcoords"
           }
          ],
          "pie": [
           {
            "automargin": true,
            "type": "pie"
           }
          ],
          "scatter": [
           {
            "marker": {
             "colorbar": {
              "outlinewidth": 0,
              "ticks": ""
             }
            },
            "type": "scatter"
           }
          ],
          "scatter3d": [
           {
            "line": {
             "colorbar": {
              "outlinewidth": 0,
              "ticks": ""
             }
            },
            "marker": {
             "colorbar": {
              "outlinewidth": 0,
              "ticks": ""
             }
            },
            "type": "scatter3d"
           }
          ],
          "scattercarpet": [
           {
            "marker": {
             "colorbar": {
              "outlinewidth": 0,
              "ticks": ""
             }
            },
            "type": "scattercarpet"
           }
          ],
          "scattergeo": [
           {
            "marker": {
             "colorbar": {
              "outlinewidth": 0,
              "ticks": ""
             }
            },
            "type": "scattergeo"
           }
          ],
          "scattergl": [
           {
            "marker": {
             "colorbar": {
              "outlinewidth": 0,
              "ticks": ""
             }
            },
            "type": "scattergl"
           }
          ],
          "scattermapbox": [
           {
            "marker": {
             "colorbar": {
              "outlinewidth": 0,
              "ticks": ""
             }
            },
            "type": "scattermapbox"
           }
          ],
          "scatterpolar": [
           {
            "marker": {
             "colorbar": {
              "outlinewidth": 0,
              "ticks": ""
             }
            },
            "type": "scatterpolar"
           }
          ],
          "scatterpolargl": [
           {
            "marker": {
             "colorbar": {
              "outlinewidth": 0,
              "ticks": ""
             }
            },
            "type": "scatterpolargl"
           }
          ],
          "scatterternary": [
           {
            "marker": {
             "colorbar": {
              "outlinewidth": 0,
              "ticks": ""
             }
            },
            "type": "scatterternary"
           }
          ],
          "surface": [
           {
            "colorbar": {
             "outlinewidth": 0,
             "ticks": ""
            },
            "colorscale": [
             [
              0,
              "#0d0887"
             ],
             [
              0.1111111111111111,
              "#46039f"
             ],
             [
              0.2222222222222222,
              "#7201a8"
             ],
             [
              0.3333333333333333,
              "#9c179e"
             ],
             [
              0.4444444444444444,
              "#bd3786"
             ],
             [
              0.5555555555555556,
              "#d8576b"
             ],
             [
              0.6666666666666666,
              "#ed7953"
             ],
             [
              0.7777777777777778,
              "#fb9f3a"
             ],
             [
              0.8888888888888888,
              "#fdca26"
             ],
             [
              1,
              "#f0f921"
             ]
            ],
            "type": "surface"
           }
          ],
          "table": [
           {
            "cells": {
             "fill": {
              "color": "#EBF0F8"
             },
             "line": {
              "color": "white"
             }
            },
            "header": {
             "fill": {
              "color": "#C8D4E3"
             },
             "line": {
              "color": "white"
             }
            },
            "type": "table"
           }
          ]
         },
         "layout": {
          "annotationdefaults": {
           "arrowcolor": "#2a3f5f",
           "arrowhead": 0,
           "arrowwidth": 1
          },
          "coloraxis": {
           "colorbar": {
            "outlinewidth": 0,
            "ticks": ""
           }
          },
          "colorscale": {
           "diverging": [
            [
             0,
             "#8e0152"
            ],
            [
             0.1,
             "#c51b7d"
            ],
            [
             0.2,
             "#de77ae"
            ],
            [
             0.3,
             "#f1b6da"
            ],
            [
             0.4,
             "#fde0ef"
            ],
            [
             0.5,
             "#f7f7f7"
            ],
            [
             0.6,
             "#e6f5d0"
            ],
            [
             0.7,
             "#b8e186"
            ],
            [
             0.8,
             "#7fbc41"
            ],
            [
             0.9,
             "#4d9221"
            ],
            [
             1,
             "#276419"
            ]
           ],
           "sequential": [
            [
             0,
             "#0d0887"
            ],
            [
             0.1111111111111111,
             "#46039f"
            ],
            [
             0.2222222222222222,
             "#7201a8"
            ],
            [
             0.3333333333333333,
             "#9c179e"
            ],
            [
             0.4444444444444444,
             "#bd3786"
            ],
            [
             0.5555555555555556,
             "#d8576b"
            ],
            [
             0.6666666666666666,
             "#ed7953"
            ],
            [
             0.7777777777777778,
             "#fb9f3a"
            ],
            [
             0.8888888888888888,
             "#fdca26"
            ],
            [
             1,
             "#f0f921"
            ]
           ],
           "sequentialminus": [
            [
             0,
             "#0d0887"
            ],
            [
             0.1111111111111111,
             "#46039f"
            ],
            [
             0.2222222222222222,
             "#7201a8"
            ],
            [
             0.3333333333333333,
             "#9c179e"
            ],
            [
             0.4444444444444444,
             "#bd3786"
            ],
            [
             0.5555555555555556,
             "#d8576b"
            ],
            [
             0.6666666666666666,
             "#ed7953"
            ],
            [
             0.7777777777777778,
             "#fb9f3a"
            ],
            [
             0.8888888888888888,
             "#fdca26"
            ],
            [
             1,
             "#f0f921"
            ]
           ]
          },
          "colorway": [
           "#636efa",
           "#EF553B",
           "#00cc96",
           "#ab63fa",
           "#FFA15A",
           "#19d3f3",
           "#FF6692",
           "#B6E880",
           "#FF97FF",
           "#FECB52"
          ],
          "font": {
           "color": "#2a3f5f"
          },
          "geo": {
           "bgcolor": "white",
           "lakecolor": "white",
           "landcolor": "#E5ECF6",
           "showlakes": true,
           "showland": true,
           "subunitcolor": "white"
          },
          "hoverlabel": {
           "align": "left"
          },
          "hovermode": "closest",
          "mapbox": {
           "style": "light"
          },
          "paper_bgcolor": "white",
          "plot_bgcolor": "#E5ECF6",
          "polar": {
           "angularaxis": {
            "gridcolor": "white",
            "linecolor": "white",
            "ticks": ""
           },
           "bgcolor": "#E5ECF6",
           "radialaxis": {
            "gridcolor": "white",
            "linecolor": "white",
            "ticks": ""
           }
          },
          "scene": {
           "xaxis": {
            "backgroundcolor": "#E5ECF6",
            "gridcolor": "white",
            "gridwidth": 2,
            "linecolor": "white",
            "showbackground": true,
            "ticks": "",
            "zerolinecolor": "white"
           },
           "yaxis": {
            "backgroundcolor": "#E5ECF6",
            "gridcolor": "white",
            "gridwidth": 2,
            "linecolor": "white",
            "showbackground": true,
            "ticks": "",
            "zerolinecolor": "white"
           },
           "zaxis": {
            "backgroundcolor": "#E5ECF6",
            "gridcolor": "white",
            "gridwidth": 2,
            "linecolor": "white",
            "showbackground": true,
            "ticks": "",
            "zerolinecolor": "white"
           }
          },
          "shapedefaults": {
           "line": {
            "color": "#2a3f5f"
           }
          },
          "ternary": {
           "aaxis": {
            "gridcolor": "white",
            "linecolor": "white",
            "ticks": ""
           },
           "baxis": {
            "gridcolor": "white",
            "linecolor": "white",
            "ticks": ""
           },
           "bgcolor": "#E5ECF6",
           "caxis": {
            "gridcolor": "white",
            "linecolor": "white",
            "ticks": ""
           }
          },
          "title": {
           "x": 0.05
          },
          "xaxis": {
           "automargin": true,
           "gridcolor": "white",
           "linecolor": "white",
           "ticks": "",
           "title": {
            "standoff": 15
           },
           "zerolinecolor": "white",
           "zerolinewidth": 2
          },
          "yaxis": {
           "automargin": true,
           "gridcolor": "white",
           "linecolor": "white",
           "ticks": "",
           "title": {
            "standoff": 15
           },
           "zerolinecolor": "white",
           "zerolinewidth": 2
          }
         }
        },
        "title": {
         "text": "Distribution Of 100000 movie ratings"
        },
        "xaxis": {
         "title": {
          "text": "Rating"
         }
        },
        "yaxis": {
         "title": {
          "text": "Count"
         }
        }
       }
      },
      "text/html": [
       "<div>\n",
       "        \n",
       "        \n",
       "            <div id=\"aed8dcb1-3771-467f-85a4-a8f9a3b80f3f\" class=\"plotly-graph-div\" style=\"height:525px; width:100%;\"></div>\n",
       "            <script type=\"text/javascript\">\n",
       "                require([\"plotly\"], function(Plotly) {\n",
       "                    window.PLOTLYENV=window.PLOTLYENV || {};\n",
       "                    \n",
       "                if (document.getElementById(\"aed8dcb1-3771-467f-85a4-a8f9a3b80f3f\")) {\n",
       "                    Plotly.newPlot(\n",
       "                        'aed8dcb1-3771-467f-85a4-a8f9a3b80f3f',\n",
       "                        [{\"text\": [\"21.2 %\", \"34.2 %\", \"27.1 %\", \"11.4 %\", \"6.1 %\"], \"textfont\": {\"color\": \"#000000\"}, \"textposition\": \"auto\", \"type\": \"bar\", \"x\": [5, 4, 3, 2, 1], \"y\": [21201, 34174, 27145, 11370, 6110]}],\n",
       "                        {\"template\": {\"data\": {\"bar\": [{\"error_x\": {\"color\": \"#2a3f5f\"}, \"error_y\": {\"color\": \"#2a3f5f\"}, \"marker\": {\"line\": {\"color\": \"#E5ECF6\", \"width\": 0.5}}, \"type\": \"bar\"}], \"barpolar\": [{\"marker\": {\"line\": {\"color\": \"#E5ECF6\", \"width\": 0.5}}, \"type\": \"barpolar\"}], \"carpet\": [{\"aaxis\": {\"endlinecolor\": \"#2a3f5f\", \"gridcolor\": \"white\", \"linecolor\": \"white\", \"minorgridcolor\": \"white\", \"startlinecolor\": \"#2a3f5f\"}, \"baxis\": {\"endlinecolor\": \"#2a3f5f\", \"gridcolor\": \"white\", \"linecolor\": \"white\", \"minorgridcolor\": \"white\", \"startlinecolor\": \"#2a3f5f\"}, \"type\": \"carpet\"}], \"choropleth\": [{\"colorbar\": {\"outlinewidth\": 0, \"ticks\": \"\"}, \"type\": \"choropleth\"}], \"contour\": [{\"colorbar\": {\"outlinewidth\": 0, \"ticks\": \"\"}, \"colorscale\": [[0.0, \"#0d0887\"], [0.1111111111111111, \"#46039f\"], [0.2222222222222222, \"#7201a8\"], [0.3333333333333333, \"#9c179e\"], [0.4444444444444444, \"#bd3786\"], [0.5555555555555556, \"#d8576b\"], [0.6666666666666666, \"#ed7953\"], [0.7777777777777778, \"#fb9f3a\"], [0.8888888888888888, \"#fdca26\"], [1.0, \"#f0f921\"]], \"type\": \"contour\"}], \"contourcarpet\": [{\"colorbar\": {\"outlinewidth\": 0, \"ticks\": \"\"}, \"type\": \"contourcarpet\"}], \"heatmap\": [{\"colorbar\": {\"outlinewidth\": 0, \"ticks\": \"\"}, \"colorscale\": [[0.0, \"#0d0887\"], [0.1111111111111111, \"#46039f\"], [0.2222222222222222, \"#7201a8\"], [0.3333333333333333, \"#9c179e\"], [0.4444444444444444, \"#bd3786\"], [0.5555555555555556, \"#d8576b\"], [0.6666666666666666, \"#ed7953\"], [0.7777777777777778, \"#fb9f3a\"], [0.8888888888888888, \"#fdca26\"], [1.0, \"#f0f921\"]], \"type\": \"heatmap\"}], \"heatmapgl\": [{\"colorbar\": {\"outlinewidth\": 0, \"ticks\": \"\"}, \"colorscale\": [[0.0, \"#0d0887\"], [0.1111111111111111, \"#46039f\"], [0.2222222222222222, \"#7201a8\"], [0.3333333333333333, \"#9c179e\"], [0.4444444444444444, \"#bd3786\"], [0.5555555555555556, \"#d8576b\"], [0.6666666666666666, \"#ed7953\"], [0.7777777777777778, \"#fb9f3a\"], [0.8888888888888888, \"#fdca26\"], [1.0, \"#f0f921\"]], \"type\": \"heatmapgl\"}], \"histogram\": [{\"marker\": {\"colorbar\": {\"outlinewidth\": 0, \"ticks\": \"\"}}, \"type\": \"histogram\"}], \"histogram2d\": [{\"colorbar\": {\"outlinewidth\": 0, \"ticks\": \"\"}, \"colorscale\": [[0.0, \"#0d0887\"], [0.1111111111111111, \"#46039f\"], [0.2222222222222222, \"#7201a8\"], [0.3333333333333333, \"#9c179e\"], [0.4444444444444444, \"#bd3786\"], [0.5555555555555556, \"#d8576b\"], [0.6666666666666666, \"#ed7953\"], [0.7777777777777778, \"#fb9f3a\"], [0.8888888888888888, \"#fdca26\"], [1.0, \"#f0f921\"]], \"type\": \"histogram2d\"}], \"histogram2dcontour\": [{\"colorbar\": {\"outlinewidth\": 0, \"ticks\": \"\"}, \"colorscale\": [[0.0, \"#0d0887\"], [0.1111111111111111, \"#46039f\"], [0.2222222222222222, \"#7201a8\"], [0.3333333333333333, \"#9c179e\"], [0.4444444444444444, \"#bd3786\"], [0.5555555555555556, \"#d8576b\"], [0.6666666666666666, \"#ed7953\"], [0.7777777777777778, \"#fb9f3a\"], [0.8888888888888888, \"#fdca26\"], [1.0, \"#f0f921\"]], \"type\": \"histogram2dcontour\"}], \"mesh3d\": [{\"colorbar\": {\"outlinewidth\": 0, \"ticks\": \"\"}, \"type\": \"mesh3d\"}], \"parcoords\": [{\"line\": {\"colorbar\": {\"outlinewidth\": 0, \"ticks\": \"\"}}, \"type\": \"parcoords\"}], \"pie\": [{\"automargin\": true, \"type\": \"pie\"}], \"scatter\": [{\"marker\": {\"colorbar\": {\"outlinewidth\": 0, \"ticks\": \"\"}}, \"type\": \"scatter\"}], \"scatter3d\": [{\"line\": {\"colorbar\": {\"outlinewidth\": 0, \"ticks\": \"\"}}, \"marker\": {\"colorbar\": {\"outlinewidth\": 0, \"ticks\": \"\"}}, \"type\": \"scatter3d\"}], \"scattercarpet\": [{\"marker\": {\"colorbar\": {\"outlinewidth\": 0, \"ticks\": \"\"}}, \"type\": \"scattercarpet\"}], \"scattergeo\": [{\"marker\": {\"colorbar\": {\"outlinewidth\": 0, \"ticks\": \"\"}}, \"type\": \"scattergeo\"}], \"scattergl\": [{\"marker\": {\"colorbar\": {\"outlinewidth\": 0, \"ticks\": \"\"}}, \"type\": \"scattergl\"}], \"scattermapbox\": [{\"marker\": {\"colorbar\": {\"outlinewidth\": 0, \"ticks\": \"\"}}, \"type\": \"scattermapbox\"}], \"scatterpolar\": [{\"marker\": {\"colorbar\": {\"outlinewidth\": 0, \"ticks\": \"\"}}, \"type\": \"scatterpolar\"}], \"scatterpolargl\": [{\"marker\": {\"colorbar\": {\"outlinewidth\": 0, \"ticks\": \"\"}}, \"type\": \"scatterpolargl\"}], \"scatterternary\": [{\"marker\": {\"colorbar\": {\"outlinewidth\": 0, \"ticks\": \"\"}}, \"type\": \"scatterternary\"}], \"surface\": [{\"colorbar\": {\"outlinewidth\": 0, \"ticks\": \"\"}, \"colorscale\": [[0.0, \"#0d0887\"], [0.1111111111111111, \"#46039f\"], [0.2222222222222222, \"#7201a8\"], [0.3333333333333333, \"#9c179e\"], [0.4444444444444444, \"#bd3786\"], [0.5555555555555556, \"#d8576b\"], [0.6666666666666666, \"#ed7953\"], [0.7777777777777778, \"#fb9f3a\"], [0.8888888888888888, \"#fdca26\"], [1.0, \"#f0f921\"]], \"type\": \"surface\"}], \"table\": [{\"cells\": {\"fill\": {\"color\": \"#EBF0F8\"}, \"line\": {\"color\": \"white\"}}, \"header\": {\"fill\": {\"color\": \"#C8D4E3\"}, \"line\": {\"color\": \"white\"}}, \"type\": \"table\"}]}, \"layout\": {\"annotationdefaults\": {\"arrowcolor\": \"#2a3f5f\", \"arrowhead\": 0, \"arrowwidth\": 1}, \"coloraxis\": {\"colorbar\": {\"outlinewidth\": 0, \"ticks\": \"\"}}, \"colorscale\": {\"diverging\": [[0, \"#8e0152\"], [0.1, \"#c51b7d\"], [0.2, \"#de77ae\"], [0.3, \"#f1b6da\"], [0.4, \"#fde0ef\"], [0.5, \"#f7f7f7\"], [0.6, \"#e6f5d0\"], [0.7, \"#b8e186\"], [0.8, \"#7fbc41\"], [0.9, \"#4d9221\"], [1, \"#276419\"]], \"sequential\": [[0.0, \"#0d0887\"], [0.1111111111111111, \"#46039f\"], [0.2222222222222222, \"#7201a8\"], [0.3333333333333333, \"#9c179e\"], [0.4444444444444444, \"#bd3786\"], [0.5555555555555556, \"#d8576b\"], [0.6666666666666666, \"#ed7953\"], [0.7777777777777778, \"#fb9f3a\"], [0.8888888888888888, \"#fdca26\"], [1.0, \"#f0f921\"]], \"sequentialminus\": [[0.0, \"#0d0887\"], [0.1111111111111111, \"#46039f\"], [0.2222222222222222, \"#7201a8\"], [0.3333333333333333, \"#9c179e\"], [0.4444444444444444, \"#bd3786\"], [0.5555555555555556, \"#d8576b\"], [0.6666666666666666, \"#ed7953\"], [0.7777777777777778, \"#fb9f3a\"], [0.8888888888888888, \"#fdca26\"], [1.0, \"#f0f921\"]]}, \"colorway\": [\"#636efa\", \"#EF553B\", \"#00cc96\", \"#ab63fa\", \"#FFA15A\", \"#19d3f3\", \"#FF6692\", \"#B6E880\", \"#FF97FF\", \"#FECB52\"], \"font\": {\"color\": \"#2a3f5f\"}, \"geo\": {\"bgcolor\": \"white\", \"lakecolor\": \"white\", \"landcolor\": \"#E5ECF6\", \"showlakes\": true, \"showland\": true, \"subunitcolor\": \"white\"}, \"hoverlabel\": {\"align\": \"left\"}, \"hovermode\": \"closest\", \"mapbox\": {\"style\": \"light\"}, \"paper_bgcolor\": \"white\", \"plot_bgcolor\": \"#E5ECF6\", \"polar\": {\"angularaxis\": {\"gridcolor\": \"white\", \"linecolor\": \"white\", \"ticks\": \"\"}, \"bgcolor\": \"#E5ECF6\", \"radialaxis\": {\"gridcolor\": \"white\", \"linecolor\": \"white\", \"ticks\": \"\"}}, \"scene\": {\"xaxis\": {\"backgroundcolor\": \"#E5ECF6\", \"gridcolor\": \"white\", \"gridwidth\": 2, \"linecolor\": \"white\", \"showbackground\": true, \"ticks\": \"\", \"zerolinecolor\": \"white\"}, \"yaxis\": {\"backgroundcolor\": \"#E5ECF6\", \"gridcolor\": \"white\", \"gridwidth\": 2, \"linecolor\": \"white\", \"showbackground\": true, \"ticks\": \"\", \"zerolinecolor\": \"white\"}, \"zaxis\": {\"backgroundcolor\": \"#E5ECF6\", \"gridcolor\": \"white\", \"gridwidth\": 2, \"linecolor\": \"white\", \"showbackground\": true, \"ticks\": \"\", \"zerolinecolor\": \"white\"}}, \"shapedefaults\": {\"line\": {\"color\": \"#2a3f5f\"}}, \"ternary\": {\"aaxis\": {\"gridcolor\": \"white\", \"linecolor\": \"white\", \"ticks\": \"\"}, \"baxis\": {\"gridcolor\": \"white\", \"linecolor\": \"white\", \"ticks\": \"\"}, \"bgcolor\": \"#E5ECF6\", \"caxis\": {\"gridcolor\": \"white\", \"linecolor\": \"white\", \"ticks\": \"\"}}, \"title\": {\"x\": 0.05}, \"xaxis\": {\"automargin\": true, \"gridcolor\": \"white\", \"linecolor\": \"white\", \"ticks\": \"\", \"title\": {\"standoff\": 15}, \"zerolinecolor\": \"white\", \"zerolinewidth\": 2}, \"yaxis\": {\"automargin\": true, \"gridcolor\": \"white\", \"linecolor\": \"white\", \"ticks\": \"\", \"title\": {\"standoff\": 15}, \"zerolinecolor\": \"white\", \"zerolinewidth\": 2}}}, \"title\": {\"text\": \"Distribution Of 100000 movie ratings\"}, \"xaxis\": {\"title\": {\"text\": \"Rating\"}}, \"yaxis\": {\"title\": {\"text\": \"Count\"}}},\n",
       "                        {\"responsive\": true}\n",
       "                    ).then(function(){\n",
       "                            \n",
       "var gd = document.getElementById('aed8dcb1-3771-467f-85a4-a8f9a3b80f3f');\n",
       "var x = new MutationObserver(function (mutations, observer) {{\n",
       "        var display = window.getComputedStyle(gd).display;\n",
       "        if (!display || display === 'none') {{\n",
       "            console.log([gd, 'removed!']);\n",
       "            Plotly.purge(gd);\n",
       "            observer.disconnect();\n",
       "        }}\n",
       "}});\n",
       "\n",
       "// Listen for the removal of the full notebook cells\n",
       "var notebookContainer = gd.closest('#notebook-container');\n",
       "if (notebookContainer) {{\n",
       "    x.observe(notebookContainer, {childList: true});\n",
       "}}\n",
       "\n",
       "// Listen for the clearing of the current output cell\n",
       "var outputEl = gd.closest('.output');\n",
       "if (outputEl) {{\n",
       "    x.observe(outputEl, {childList: true});\n",
       "}}\n",
       "\n",
       "                        })\n",
       "                };\n",
       "                });\n",
       "            </script>\n",
       "        </div>"
      ]
     },
     "metadata": {},
     "output_type": "display_data"
    }
   ],
   "source": [
    "from plotly.offline import init_notebook_mode, plot, iplot\n",
    "import plotly.graph_objs as go\n",
    "init_notebook_mode(connected=True)\n",
    "\n",
    "# Count the number of times each rating appears in the dataset\n",
    "data = df['rating'].value_counts().sort_index(ascending=False)\n",
    "\n",
    "# Create the histogram\n",
    "trace = go.Bar(x = data.index,\n",
    "               text = ['{:.1f} %'.format(val) for val in (data.values / df.shape[0] * 100)],\n",
    "               textposition = 'auto',\n",
    "               textfont = dict(color = '#000000'),\n",
    "               y = data.values,\n",
    "               )\n",
    "# Create layout\n",
    "layout = dict(title = 'Distribution Of {} movie ratings'.format(df.shape[0]),\n",
    "              xaxis = dict(title = 'Rating'),\n",
    "              yaxis = dict(title = 'Count'))\n",
    "# Create plot\n",
    "fig = go.Figure(data=[trace], layout=layout)\n",
    "iplot(fig)"
   ]
  },
  {
   "cell_type": "markdown",
   "metadata": {},
   "source": [
    "We can see that ratings are biased to positive score. This tends to be common in many recommendation scenarios (for example in Google Reviews a restaurant with a scoring smaller than 4/3.5 if definitely a no-go). That's because we have the bias terms in the recommendation algorithms (later on we will see them in practice)"
   ]
  },
  {
   "cell_type": "markdown",
   "metadata": {},
   "source": [
    "### Numbers of ratings per movie\n",
    "\n",
    "The following analysis checks how many ratings (interactions) each movie has. As explained in class, due to the long tail \"problem\", we will have a tiny amount of highly popular movies (with many ratings) and a very large number of almost unknown movies (with a handful of ratings).\n",
    "\n",
    "The degree in which this long tail phenomena occurs will be related to aspects such as serendipity or overespecialization of the recommendations and the recommendation methodology that you should select (i.e., if you only have ratings for a bunch of movies, perhaps it does not make sense to use a CF recommendation system)"
   ]
  },
  {
   "cell_type": "code",
   "execution_count": 4,
   "metadata": {},
   "outputs": [
    {
     "data": {
      "application/vnd.plotly.v1+json": {
       "config": {
        "linkText": "Export to plot.ly",
        "plotlyServerURL": "https://plot.ly",
        "showLink": false
       },
       "data": [
        {
         "name": "Ratings",
         "type": "histogram",
         "x": [
          9,
          5,
          109,
          125,
          41,
          93,
          72,
          259,
          5,
          59,
          38,
          4,
          4,
          8,
          5,
          127,
          151,
          103,
          37,
          4,
          87,
          54,
          11,
          39,
          111,
          67,
          26,
          152,
          18,
          65,
          1,
          43,
          431,
          16,
          32,
          50,
          219,
          26,
          13,
          6,
          81,
          291,
          100,
          124,
          284,
          66,
          15,
          3,
          1,
          12,
          276,
          18,
          10,
          11,
          2,
          164,
          2,
          99,
          50,
          124,
          5,
          6,
          4,
          53,
          14,
          5,
          3,
          19,
          4,
          38,
          66,
          18,
          4,
          6,
          1,
          1,
          72,
          39,
          14,
          2,
          33,
          21,
          180,
          28,
          69,
          7,
          63,
          221,
          276,
          55,
          25,
          15,
          160,
          54,
          116,
          59,
          83,
          115,
          112,
          39,
          18,
          41,
          12,
          1,
          130,
          8,
          7,
          3,
          1,
          219,
          10,
          2,
          3,
          350,
          19,
          57,
          9,
          6,
          6,
          16,
          4,
          16,
          57,
          9,
          30,
          28,
          53,
          101,
          40,
          44,
          16,
          62,
          201,
          114,
          142,
          1,
          91,
          2,
          7,
          86,
          115,
          29,
          202,
          156,
          60,
          57,
          49,
          26,
          10,
          4,
          116,
          16,
          37,
          124,
          102,
          6,
          5,
          6,
          79,
          20,
          28,
          48,
          3,
          2,
          18,
          8,
          1,
          17,
          14,
          14,
          42,
          171,
          1,
          73,
          4,
          37,
          31,
          1,
          293,
          162,
          10,
          3,
          27,
          55,
          275,
          19,
          7,
          46,
          22,
          6,
          5,
          10,
          1,
          29,
          18,
          9,
          12,
          45,
          28,
          251,
          85,
          13,
          22,
          69,
          22,
          4,
          122,
          189,
          32,
          201,
          48,
          44,
          129,
          15,
          6,
          6,
          5,
          2,
          13,
          34,
          3,
          76,
          14,
          120,
          32,
          297,
          208,
          12,
          77,
          95,
          74,
          46,
          165,
          67,
          68,
          254,
          8,
          48,
          5,
          1,
          73,
          1,
          10,
          4,
          49,
          86,
          24,
          9,
          7,
          216,
          2,
          1,
          15,
          4,
          16,
          106,
          3,
          29,
          39,
          65,
          21,
          86,
          171,
          3,
          39,
          1,
          54,
          2,
          4,
          5,
          121,
          11,
          13,
          243,
          91,
          52,
          4,
          48,
          62,
          32,
          3,
          8,
          2,
          56,
          15,
          10,
          23,
          1,
          80,
          9,
          43,
          40,
          5,
          379,
          19,
          5,
          147,
          69,
          28,
          4,
          129,
          121,
          76,
          198,
          45,
          79,
          44,
          8,
          6,
          96,
          10,
          4,
          179,
          148,
          97,
          93,
          33,
          221,
          112,
          170,
          15,
          125,
          1,
          2,
          4,
          15,
          3,
          137,
          107,
          2,
          41,
          42,
          295,
          509,
          9,
          2,
          82,
          164,
          68,
          175,
          13,
          86,
          39,
          4,
          2,
          221,
          19,
          104,
          128,
          154,
          11,
          10,
          10,
          4,
          28,
          134,
          39,
          2,
          77,
          1,
          81,
          24,
          119,
          8,
          6,
          18,
          1,
          66,
          3,
          19,
          1,
          1,
          1,
          256,
          13,
          8,
          47,
          2,
          240,
          16,
          180,
          11,
          97,
          2,
          57,
          53,
          15,
          64,
          34,
          299,
          251,
          18,
          12,
          28,
          1,
          1,
          29,
          65,
          14,
          120,
          65,
          2,
          92,
          7,
          1,
          7,
          97,
          72,
          2,
          57,
          188,
          240,
          71,
          68,
          243,
          166,
          151,
          31,
          5,
          98,
          40,
          66,
          79,
          76,
          35,
          147,
          7,
          46,
          7,
          13,
          22,
          101,
          35,
          194,
          25,
          158,
          2,
          7,
          24,
          31,
          5,
          93,
          69,
          123,
          7,
          6,
          300,
          59,
          80,
          6,
          133,
          3,
          40,
          113,
          1,
          177,
          367,
          70,
          10,
          4,
          481,
          32,
          1,
          206,
          91,
          91,
          30,
          1,
          64,
          5,
          29,
          127,
          2,
          1,
          168,
          89,
          259,
          52,
          157,
          16,
          27,
          64,
          32,
          1,
          194,
          4,
          11,
          30,
          10,
          3,
          41,
          2,
          45,
          64,
          174,
          7,
          46,
          12,
          508,
          17,
          1,
          32,
          7,
          19,
          60,
          128,
          31,
          5,
          3,
          1,
          44,
          10,
          1,
          25,
          5,
          32,
          8,
          212,
          96,
          197,
          4,
          44,
          1,
          18,
          151,
          40,
          86,
          160,
          247,
          34,
          6,
          31,
          20,
          5,
          42,
          6,
          53,
          14,
          180,
          23,
          24,
          3,
          12,
          14,
          20,
          3,
          4,
          67,
          15,
          2,
          62,
          321,
          12,
          90,
          251,
          61,
          15,
          4,
          33,
          11,
          27,
          42,
          84,
          39,
          10,
          26,
          153,
          115,
          3,
          92,
          336,
          170,
          315,
          8,
          21,
          21,
          1,
          175,
          6,
          251,
          195,
          16,
          24,
          35,
          1,
          136,
          15,
          162,
          30,
          4,
          9,
          209,
          38,
          18,
          1,
          5,
          170,
          43,
          128,
          26,
          29,
          51,
          41,
          3,
          25,
          1,
          1,
          2,
          69,
          48,
          171,
          15,
          413,
          209,
          10,
          2,
          131,
          11,
          171,
          2,
          1,
          198,
          137,
          226,
          20,
          3,
          8,
          239,
          66,
          9,
          4,
          170,
          24,
          1,
          46,
          124,
          27,
          31,
          49,
          19,
          89,
          4,
          160,
          280,
          148,
          4,
          6,
          5,
          33,
          20,
          25,
          90,
          1,
          149,
          15,
          31,
          40,
          4,
          121,
          40,
          18,
          15,
          1,
          4,
          8,
          5,
          223,
          171,
          9,
          27,
          70,
          5,
          73,
          13,
          1,
          13,
          18,
          124,
          11,
          66,
          1,
          9,
          88,
          29,
          30,
          153,
          16,
          56,
          6,
          1,
          137,
          19,
          58,
          32,
          61,
          73,
          117,
          7,
          9,
          1,
          68,
          4,
          14,
          25,
          9,
          18,
          24,
          24,
          21,
          71,
          38,
          110,
          7,
          127,
          1,
          227,
          3,
          9,
          1,
          3,
          1,
          100,
          3,
          10,
          37,
          10,
          17,
          1,
          81,
          108,
          29,
          3,
          63,
          230,
          28,
          18,
          16,
          66,
          4,
          169,
          26,
          102,
          9,
          10,
          429,
          20,
          39,
          331,
          6,
          3,
          2,
          4,
          18,
          137,
          2,
          23,
          1,
          57,
          46,
          81,
          3,
          21,
          231,
          1,
          70,
          7,
          87,
          126,
          145,
          17,
          126,
          63,
          8,
          280,
          66,
          16,
          64,
          5,
          34,
          3,
          384,
          8,
          18,
          45,
          2,
          41,
          1,
          4,
          3,
          23,
          39,
          25,
          96,
          85,
          132,
          45,
          1,
          261,
          82,
          14,
          28,
          59,
          22,
          23,
          8,
          10,
          25,
          7,
          13,
          22,
          49,
          65,
          2,
          4,
          1,
          121,
          40,
          7,
          1,
          4,
          162,
          31,
          20,
          143,
          6,
          117,
          53,
          69,
          42,
          297,
          1,
          4,
          4,
          6,
          1,
          9,
          1,
          7,
          59,
          9,
          4,
          53,
          3,
          58,
          7,
          3,
          128,
          5,
          40,
          21,
          65,
          173,
          4,
          4,
          44,
          298,
          5,
          81,
          1,
          3,
          485,
          1,
          53,
          7,
          10,
          148,
          2,
          220,
          16,
          22,
          2,
          12,
          10,
          41,
          9,
          18,
          102,
          23,
          27,
          5,
          63,
          4,
          5,
          187,
          185,
          55,
          24,
          8,
          12,
          125,
          34,
          158,
          18,
          1,
          12,
          12,
          50,
          1,
          42,
          4,
          2,
          7,
          8,
          10,
          26,
          3,
          10,
          1,
          44,
          206,
          18,
          1,
          20,
          2,
          47,
          1,
          13,
          7,
          27,
          91,
          17,
          5,
          121,
          19,
          46,
          54,
          138,
          1,
          52,
          80,
          68,
          1,
          12,
          7,
          9,
          9,
          131,
          91,
          27,
          13,
          58,
          6,
          13,
          22,
          1,
          217,
          78,
          178,
          39,
          59,
          129,
          1,
          51,
          95,
          128,
          20,
          4,
          8,
          69,
          34,
          25,
          31,
          7,
          2,
          303,
          2,
          50,
          7,
          6,
          36,
          15,
          119,
          92,
          24,
          5,
          80,
          184,
          11,
          3,
          37,
          1,
          89,
          101,
          6,
          101,
          1,
          66,
          344,
          21,
          15,
          1,
          42,
          3,
          92,
          43,
          9,
          316,
          174,
          7,
          49,
          43,
          1,
          169,
          22,
          44,
          293,
          2,
          12,
          105,
          4,
          23,
          96,
          15,
          192,
          22,
          22,
          176,
          82,
          134,
          84,
          218,
          60,
          9,
          100,
          17,
          172,
          11,
          125,
          21,
          3,
          62,
          86,
          121,
          2,
          93,
          27,
          30,
          130,
          8,
          25,
          69,
          2,
          7,
          128,
          81,
          3,
          1,
          4,
          120,
          12,
          1,
          2,
          2,
          4,
          9,
          1,
          1,
          44,
          2,
          32,
          7,
          64,
          36,
          143,
          111,
          3,
          127,
          4,
          6,
          58,
          26,
          90,
          5,
          1,
          46,
          1,
          7,
          179,
          54,
          3,
          1,
          7,
          52,
          24,
          3,
          163,
          6,
          1,
          5,
          6,
          1,
          5,
          32,
          64,
          22,
          85,
          106,
          50,
          38,
          28,
          31,
          112,
          264,
          15,
          39,
          2,
          31,
          7,
          34,
          21,
          72,
          1,
          19,
          104,
          2,
          12,
          22,
          14,
          13,
          5,
          40,
          20,
          7,
          73,
          27,
          1,
          3,
          46,
          16,
          28,
          8,
          33,
          136,
          136,
          8,
          215,
          14,
          4,
          50,
          44,
          8,
          43,
          80,
          13,
          1,
          5,
          244,
          137,
          104,
          168,
          18,
          10,
          81,
          4,
          26,
          114,
          101,
          127,
          43,
          51,
          9,
          13,
          1,
          27,
          7,
          10,
          25,
          183,
          58,
          48,
          1,
          68,
          3,
          164,
          3,
          40,
          178,
          13,
          324,
          15,
          5,
          67,
          100,
          149,
          31,
          6,
          1,
          20,
          32,
          239,
          394,
          79,
          7,
          2,
          7,
          1,
          24,
          27,
          48,
          67,
          3,
          175,
          5,
          12,
          116,
          420,
          145,
          58,
          256,
          70,
          267,
          1,
          18,
          119,
          77,
          209,
          66,
          90,
          8,
          57,
          13,
          52,
          58,
          3,
          25,
          1,
          150,
          43,
          3,
          8,
          39,
          148,
          71,
          44,
          507,
          92,
          5,
          15,
          89,
          21,
          44,
          157,
          1,
          43,
          146,
          17,
          92,
          18,
          56,
          75,
          11,
          378,
          49,
          68,
          37,
          5,
          98,
          134,
          13,
          5,
          90,
          114,
          2,
          23,
          64,
          16,
          174,
          4,
          2,
          64,
          190,
          13,
          2,
          2,
          316,
          2,
          82,
          2,
          3,
          2,
          5,
          298,
          4,
          12,
          478,
          106,
          1,
          46,
          3,
          138,
          6,
          5,
          6,
          79,
          71,
          162,
          16,
          268,
          7,
          54,
          19,
          236,
          155,
          72,
          101,
          2,
          74,
          44,
          1,
          45,
          78,
          1,
          30,
          17,
          46,
          66,
          26,
          283,
          53,
          73,
          12,
          129,
          206,
          3,
          10,
          1,
          67,
          2,
          23,
          390,
          1,
          10,
          3,
          137,
          59,
          74,
          9,
          82,
          169,
          213,
          1,
          5,
          136,
          2,
          37,
          1,
          25,
          48,
          74,
          150,
          172,
          4,
          95,
          12,
          41,
          59,
          128,
          2,
          2,
          1,
          26,
          82,
          39,
          58,
          59,
          222,
          93,
          1,
          27,
          143,
          20,
          45,
          36,
          230,
          38,
          30,
          41,
          26,
          2,
          97,
          3,
          43,
          3,
          9,
          12,
          11,
          227,
          3,
          12,
          19,
          171,
          199,
          63,
          161,
          365,
          116,
          117,
          244,
          583,
          127,
          3,
          211,
          7,
          64,
          19,
          1,
          29,
          241,
          5,
          5,
          87,
          7,
          3,
          11,
          8,
          98,
          104,
          12,
          5,
          67,
          16,
          17,
          12,
          4,
          49,
          47,
          2,
          11,
          1,
          65,
          8,
          26,
          65,
          19,
          11,
          4,
          7,
          44,
          1,
          7,
          47,
          157,
          39,
          17,
          13,
          82,
          1,
          1,
          1,
          43,
          55,
          27,
          5,
          13,
          41,
          1,
          182,
          13,
          3,
          34,
          295,
          301,
          1,
          6,
          19,
          41,
          11,
          176,
          1,
          2,
          4,
          5,
          1,
          7,
          35,
          12,
          60,
          71,
          49,
          72,
          18,
          191,
          37,
          22,
          64,
          83,
          59,
          1,
          89,
          9,
          31,
          32,
          7,
          1,
          2,
          232,
          31,
          193,
          40,
          51,
          350,
          18,
          50,
          1,
          87,
          44,
          2,
          219,
          14,
          57,
          1,
          9,
          12,
          108,
          66,
          180,
          220,
          21,
          4,
          9,
          34,
          2,
          1,
          452,
          250,
          32,
          13,
          80,
          50,
          23,
          7,
          35,
          9,
          208,
          104,
          11,
          19,
          272,
          3,
          5,
          23,
          2,
          29,
          392,
          4,
          6,
          6,
          293,
          5,
          4,
          1,
          7,
          25,
          4,
          64,
          9,
          184,
          21,
          92,
          124,
          48,
          5,
          4,
          4,
          34,
          182,
          10,
          22,
          23,
          11,
          85,
          47,
          267,
          12,
          6,
          27,
          75,
          2,
          2,
          1,
          179,
          93,
          1,
          77,
          1,
          22,
          38,
          2,
          219,
          137,
          47,
          16,
          63,
          1,
          26,
          4,
          8,
          67,
          9,
          1,
          15,
          10,
          34,
          102,
          1,
          3,
          72,
          60,
          22,
          112,
          1,
          35,
          8,
          115,
          45,
          290,
          5,
          44,
          39,
          16,
          162,
          10,
          10,
          85,
          6,
          19,
          1,
          9,
          12,
          43,
          14,
          11,
          106,
          326,
          1,
          1,
          57,
          75,
          75,
          9,
          27,
          46,
          13,
          1,
          246,
          67,
          1,
          15,
          10,
          10,
          3,
          6,
          118,
          50,
          1,
          7,
          1,
          200,
          101,
          44,
          41,
          6,
          9,
          1
         ],
         "xbins": {
          "size": 2,
          "start": 0
         }
        }
       ],
       "layout": {
        "bargap": 0.2,
        "template": {
         "data": {
          "bar": [
           {
            "error_x": {
             "color": "#2a3f5f"
            },
            "error_y": {
             "color": "#2a3f5f"
            },
            "marker": {
             "line": {
              "color": "#E5ECF6",
              "width": 0.5
             }
            },
            "type": "bar"
           }
          ],
          "barpolar": [
           {
            "marker": {
             "line": {
              "color": "#E5ECF6",
              "width": 0.5
             }
            },
            "type": "barpolar"
           }
          ],
          "carpet": [
           {
            "aaxis": {
             "endlinecolor": "#2a3f5f",
             "gridcolor": "white",
             "linecolor": "white",
             "minorgridcolor": "white",
             "startlinecolor": "#2a3f5f"
            },
            "baxis": {
             "endlinecolor": "#2a3f5f",
             "gridcolor": "white",
             "linecolor": "white",
             "minorgridcolor": "white",
             "startlinecolor": "#2a3f5f"
            },
            "type": "carpet"
           }
          ],
          "choropleth": [
           {
            "colorbar": {
             "outlinewidth": 0,
             "ticks": ""
            },
            "type": "choropleth"
           }
          ],
          "contour": [
           {
            "colorbar": {
             "outlinewidth": 0,
             "ticks": ""
            },
            "colorscale": [
             [
              0,
              "#0d0887"
             ],
             [
              0.1111111111111111,
              "#46039f"
             ],
             [
              0.2222222222222222,
              "#7201a8"
             ],
             [
              0.3333333333333333,
              "#9c179e"
             ],
             [
              0.4444444444444444,
              "#bd3786"
             ],
             [
              0.5555555555555556,
              "#d8576b"
             ],
             [
              0.6666666666666666,
              "#ed7953"
             ],
             [
              0.7777777777777778,
              "#fb9f3a"
             ],
             [
              0.8888888888888888,
              "#fdca26"
             ],
             [
              1,
              "#f0f921"
             ]
            ],
            "type": "contour"
           }
          ],
          "contourcarpet": [
           {
            "colorbar": {
             "outlinewidth": 0,
             "ticks": ""
            },
            "type": "contourcarpet"
           }
          ],
          "heatmap": [
           {
            "colorbar": {
             "outlinewidth": 0,
             "ticks": ""
            },
            "colorscale": [
             [
              0,
              "#0d0887"
             ],
             [
              0.1111111111111111,
              "#46039f"
             ],
             [
              0.2222222222222222,
              "#7201a8"
             ],
             [
              0.3333333333333333,
              "#9c179e"
             ],
             [
              0.4444444444444444,
              "#bd3786"
             ],
             [
              0.5555555555555556,
              "#d8576b"
             ],
             [
              0.6666666666666666,
              "#ed7953"
             ],
             [
              0.7777777777777778,
              "#fb9f3a"
             ],
             [
              0.8888888888888888,
              "#fdca26"
             ],
             [
              1,
              "#f0f921"
             ]
            ],
            "type": "heatmap"
           }
          ],
          "heatmapgl": [
           {
            "colorbar": {
             "outlinewidth": 0,
             "ticks": ""
            },
            "colorscale": [
             [
              0,
              "#0d0887"
             ],
             [
              0.1111111111111111,
              "#46039f"
             ],
             [
              0.2222222222222222,
              "#7201a8"
             ],
             [
              0.3333333333333333,
              "#9c179e"
             ],
             [
              0.4444444444444444,
              "#bd3786"
             ],
             [
              0.5555555555555556,
              "#d8576b"
             ],
             [
              0.6666666666666666,
              "#ed7953"
             ],
             [
              0.7777777777777778,
              "#fb9f3a"
             ],
             [
              0.8888888888888888,
              "#fdca26"
             ],
             [
              1,
              "#f0f921"
             ]
            ],
            "type": "heatmapgl"
           }
          ],
          "histogram": [
           {
            "marker": {
             "colorbar": {
              "outlinewidth": 0,
              "ticks": ""
             }
            },
            "type": "histogram"
           }
          ],
          "histogram2d": [
           {
            "colorbar": {
             "outlinewidth": 0,
             "ticks": ""
            },
            "colorscale": [
             [
              0,
              "#0d0887"
             ],
             [
              0.1111111111111111,
              "#46039f"
             ],
             [
              0.2222222222222222,
              "#7201a8"
             ],
             [
              0.3333333333333333,
              "#9c179e"
             ],
             [
              0.4444444444444444,
              "#bd3786"
             ],
             [
              0.5555555555555556,
              "#d8576b"
             ],
             [
              0.6666666666666666,
              "#ed7953"
             ],
             [
              0.7777777777777778,
              "#fb9f3a"
             ],
             [
              0.8888888888888888,
              "#fdca26"
             ],
             [
              1,
              "#f0f921"
             ]
            ],
            "type": "histogram2d"
           }
          ],
          "histogram2dcontour": [
           {
            "colorbar": {
             "outlinewidth": 0,
             "ticks": ""
            },
            "colorscale": [
             [
              0,
              "#0d0887"
             ],
             [
              0.1111111111111111,
              "#46039f"
             ],
             [
              0.2222222222222222,
              "#7201a8"
             ],
             [
              0.3333333333333333,
              "#9c179e"
             ],
             [
              0.4444444444444444,
              "#bd3786"
             ],
             [
              0.5555555555555556,
              "#d8576b"
             ],
             [
              0.6666666666666666,
              "#ed7953"
             ],
             [
              0.7777777777777778,
              "#fb9f3a"
             ],
             [
              0.8888888888888888,
              "#fdca26"
             ],
             [
              1,
              "#f0f921"
             ]
            ],
            "type": "histogram2dcontour"
           }
          ],
          "mesh3d": [
           {
            "colorbar": {
             "outlinewidth": 0,
             "ticks": ""
            },
            "type": "mesh3d"
           }
          ],
          "parcoords": [
           {
            "line": {
             "colorbar": {
              "outlinewidth": 0,
              "ticks": ""
             }
            },
            "type": "parcoords"
           }
          ],
          "pie": [
           {
            "automargin": true,
            "type": "pie"
           }
          ],
          "scatter": [
           {
            "marker": {
             "colorbar": {
              "outlinewidth": 0,
              "ticks": ""
             }
            },
            "type": "scatter"
           }
          ],
          "scatter3d": [
           {
            "line": {
             "colorbar": {
              "outlinewidth": 0,
              "ticks": ""
             }
            },
            "marker": {
             "colorbar": {
              "outlinewidth": 0,
              "ticks": ""
             }
            },
            "type": "scatter3d"
           }
          ],
          "scattercarpet": [
           {
            "marker": {
             "colorbar": {
              "outlinewidth": 0,
              "ticks": ""
             }
            },
            "type": "scattercarpet"
           }
          ],
          "scattergeo": [
           {
            "marker": {
             "colorbar": {
              "outlinewidth": 0,
              "ticks": ""
             }
            },
            "type": "scattergeo"
           }
          ],
          "scattergl": [
           {
            "marker": {
             "colorbar": {
              "outlinewidth": 0,
              "ticks": ""
             }
            },
            "type": "scattergl"
           }
          ],
          "scattermapbox": [
           {
            "marker": {
             "colorbar": {
              "outlinewidth": 0,
              "ticks": ""
             }
            },
            "type": "scattermapbox"
           }
          ],
          "scatterpolar": [
           {
            "marker": {
             "colorbar": {
              "outlinewidth": 0,
              "ticks": ""
             }
            },
            "type": "scatterpolar"
           }
          ],
          "scatterpolargl": [
           {
            "marker": {
             "colorbar": {
              "outlinewidth": 0,
              "ticks": ""
             }
            },
            "type": "scatterpolargl"
           }
          ],
          "scatterternary": [
           {
            "marker": {
             "colorbar": {
              "outlinewidth": 0,
              "ticks": ""
             }
            },
            "type": "scatterternary"
           }
          ],
          "surface": [
           {
            "colorbar": {
             "outlinewidth": 0,
             "ticks": ""
            },
            "colorscale": [
             [
              0,
              "#0d0887"
             ],
             [
              0.1111111111111111,
              "#46039f"
             ],
             [
              0.2222222222222222,
              "#7201a8"
             ],
             [
              0.3333333333333333,
              "#9c179e"
             ],
             [
              0.4444444444444444,
              "#bd3786"
             ],
             [
              0.5555555555555556,
              "#d8576b"
             ],
             [
              0.6666666666666666,
              "#ed7953"
             ],
             [
              0.7777777777777778,
              "#fb9f3a"
             ],
             [
              0.8888888888888888,
              "#fdca26"
             ],
             [
              1,
              "#f0f921"
             ]
            ],
            "type": "surface"
           }
          ],
          "table": [
           {
            "cells": {
             "fill": {
              "color": "#EBF0F8"
             },
             "line": {
              "color": "white"
             }
            },
            "header": {
             "fill": {
              "color": "#C8D4E3"
             },
             "line": {
              "color": "white"
             }
            },
            "type": "table"
           }
          ]
         },
         "layout": {
          "annotationdefaults": {
           "arrowcolor": "#2a3f5f",
           "arrowhead": 0,
           "arrowwidth": 1
          },
          "coloraxis": {
           "colorbar": {
            "outlinewidth": 0,
            "ticks": ""
           }
          },
          "colorscale": {
           "diverging": [
            [
             0,
             "#8e0152"
            ],
            [
             0.1,
             "#c51b7d"
            ],
            [
             0.2,
             "#de77ae"
            ],
            [
             0.3,
             "#f1b6da"
            ],
            [
             0.4,
             "#fde0ef"
            ],
            [
             0.5,
             "#f7f7f7"
            ],
            [
             0.6,
             "#e6f5d0"
            ],
            [
             0.7,
             "#b8e186"
            ],
            [
             0.8,
             "#7fbc41"
            ],
            [
             0.9,
             "#4d9221"
            ],
            [
             1,
             "#276419"
            ]
           ],
           "sequential": [
            [
             0,
             "#0d0887"
            ],
            [
             0.1111111111111111,
             "#46039f"
            ],
            [
             0.2222222222222222,
             "#7201a8"
            ],
            [
             0.3333333333333333,
             "#9c179e"
            ],
            [
             0.4444444444444444,
             "#bd3786"
            ],
            [
             0.5555555555555556,
             "#d8576b"
            ],
            [
             0.6666666666666666,
             "#ed7953"
            ],
            [
             0.7777777777777778,
             "#fb9f3a"
            ],
            [
             0.8888888888888888,
             "#fdca26"
            ],
            [
             1,
             "#f0f921"
            ]
           ],
           "sequentialminus": [
            [
             0,
             "#0d0887"
            ],
            [
             0.1111111111111111,
             "#46039f"
            ],
            [
             0.2222222222222222,
             "#7201a8"
            ],
            [
             0.3333333333333333,
             "#9c179e"
            ],
            [
             0.4444444444444444,
             "#bd3786"
            ],
            [
             0.5555555555555556,
             "#d8576b"
            ],
            [
             0.6666666666666666,
             "#ed7953"
            ],
            [
             0.7777777777777778,
             "#fb9f3a"
            ],
            [
             0.8888888888888888,
             "#fdca26"
            ],
            [
             1,
             "#f0f921"
            ]
           ]
          },
          "colorway": [
           "#636efa",
           "#EF553B",
           "#00cc96",
           "#ab63fa",
           "#FFA15A",
           "#19d3f3",
           "#FF6692",
           "#B6E880",
           "#FF97FF",
           "#FECB52"
          ],
          "font": {
           "color": "#2a3f5f"
          },
          "geo": {
           "bgcolor": "white",
           "lakecolor": "white",
           "landcolor": "#E5ECF6",
           "showlakes": true,
           "showland": true,
           "subunitcolor": "white"
          },
          "hoverlabel": {
           "align": "left"
          },
          "hovermode": "closest",
          "mapbox": {
           "style": "light"
          },
          "paper_bgcolor": "white",
          "plot_bgcolor": "#E5ECF6",
          "polar": {
           "angularaxis": {
            "gridcolor": "white",
            "linecolor": "white",
            "ticks": ""
           },
           "bgcolor": "#E5ECF6",
           "radialaxis": {
            "gridcolor": "white",
            "linecolor": "white",
            "ticks": ""
           }
          },
          "scene": {
           "xaxis": {
            "backgroundcolor": "#E5ECF6",
            "gridcolor": "white",
            "gridwidth": 2,
            "linecolor": "white",
            "showbackground": true,
            "ticks": "",
            "zerolinecolor": "white"
           },
           "yaxis": {
            "backgroundcolor": "#E5ECF6",
            "gridcolor": "white",
            "gridwidth": 2,
            "linecolor": "white",
            "showbackground": true,
            "ticks": "",
            "zerolinecolor": "white"
           },
           "zaxis": {
            "backgroundcolor": "#E5ECF6",
            "gridcolor": "white",
            "gridwidth": 2,
            "linecolor": "white",
            "showbackground": true,
            "ticks": "",
            "zerolinecolor": "white"
           }
          },
          "shapedefaults": {
           "line": {
            "color": "#2a3f5f"
           }
          },
          "ternary": {
           "aaxis": {
            "gridcolor": "white",
            "linecolor": "white",
            "ticks": ""
           },
           "baxis": {
            "gridcolor": "white",
            "linecolor": "white",
            "ticks": ""
           },
           "bgcolor": "#E5ECF6",
           "caxis": {
            "gridcolor": "white",
            "linecolor": "white",
            "ticks": ""
           }
          },
          "title": {
           "x": 0.05
          },
          "xaxis": {
           "automargin": true,
           "gridcolor": "white",
           "linecolor": "white",
           "ticks": "",
           "title": {
            "standoff": 15
           },
           "zerolinecolor": "white",
           "zerolinewidth": 2
          },
          "yaxis": {
           "automargin": true,
           "gridcolor": "white",
           "linecolor": "white",
           "ticks": "",
           "title": {
            "standoff": 15
           },
           "zerolinecolor": "white",
           "zerolinewidth": 2
          }
         }
        },
        "title": {
         "text": "Distribution Of Number of Ratings Per Movie"
        },
        "xaxis": {
         "title": {
          "text": "Number of Ratings Per Movie"
         }
        },
        "yaxis": {
         "title": {
          "text": "Count"
         }
        }
       }
      },
      "text/html": [
       "<div>\n",
       "        \n",
       "        \n",
       "            <div id=\"8d186ed9-6298-4e51-8b5e-5fd75e8be8e2\" class=\"plotly-graph-div\" style=\"height:525px; width:100%;\"></div>\n",
       "            <script type=\"text/javascript\">\n",
       "                require([\"plotly\"], function(Plotly) {\n",
       "                    window.PLOTLYENV=window.PLOTLYENV || {};\n",
       "                    \n",
       "                if (document.getElementById(\"8d186ed9-6298-4e51-8b5e-5fd75e8be8e2\")) {\n",
       "                    Plotly.newPlot(\n",
       "                        '8d186ed9-6298-4e51-8b5e-5fd75e8be8e2',\n",
       "                        [{\"name\": \"Ratings\", \"type\": \"histogram\", \"x\": [9, 5, 109, 125, 41, 93, 72, 259, 5, 59, 38, 4, 4, 8, 5, 127, 151, 103, 37, 4, 87, 54, 11, 39, 111, 67, 26, 152, 18, 65, 1, 43, 431, 16, 32, 50, 219, 26, 13, 6, 81, 291, 100, 124, 284, 66, 15, 3, 1, 12, 276, 18, 10, 11, 2, 164, 2, 99, 50, 124, 5, 6, 4, 53, 14, 5, 3, 19, 4, 38, 66, 18, 4, 6, 1, 1, 72, 39, 14, 2, 33, 21, 180, 28, 69, 7, 63, 221, 276, 55, 25, 15, 160, 54, 116, 59, 83, 115, 112, 39, 18, 41, 12, 1, 130, 8, 7, 3, 1, 219, 10, 2, 3, 350, 19, 57, 9, 6, 6, 16, 4, 16, 57, 9, 30, 28, 53, 101, 40, 44, 16, 62, 201, 114, 142, 1, 91, 2, 7, 86, 115, 29, 202, 156, 60, 57, 49, 26, 10, 4, 116, 16, 37, 124, 102, 6, 5, 6, 79, 20, 28, 48, 3, 2, 18, 8, 1, 17, 14, 14, 42, 171, 1, 73, 4, 37, 31, 1, 293, 162, 10, 3, 27, 55, 275, 19, 7, 46, 22, 6, 5, 10, 1, 29, 18, 9, 12, 45, 28, 251, 85, 13, 22, 69, 22, 4, 122, 189, 32, 201, 48, 44, 129, 15, 6, 6, 5, 2, 13, 34, 3, 76, 14, 120, 32, 297, 208, 12, 77, 95, 74, 46, 165, 67, 68, 254, 8, 48, 5, 1, 73, 1, 10, 4, 49, 86, 24, 9, 7, 216, 2, 1, 15, 4, 16, 106, 3, 29, 39, 65, 21, 86, 171, 3, 39, 1, 54, 2, 4, 5, 121, 11, 13, 243, 91, 52, 4, 48, 62, 32, 3, 8, 2, 56, 15, 10, 23, 1, 80, 9, 43, 40, 5, 379, 19, 5, 147, 69, 28, 4, 129, 121, 76, 198, 45, 79, 44, 8, 6, 96, 10, 4, 179, 148, 97, 93, 33, 221, 112, 170, 15, 125, 1, 2, 4, 15, 3, 137, 107, 2, 41, 42, 295, 509, 9, 2, 82, 164, 68, 175, 13, 86, 39, 4, 2, 221, 19, 104, 128, 154, 11, 10, 10, 4, 28, 134, 39, 2, 77, 1, 81, 24, 119, 8, 6, 18, 1, 66, 3, 19, 1, 1, 1, 256, 13, 8, 47, 2, 240, 16, 180, 11, 97, 2, 57, 53, 15, 64, 34, 299, 251, 18, 12, 28, 1, 1, 29, 65, 14, 120, 65, 2, 92, 7, 1, 7, 97, 72, 2, 57, 188, 240, 71, 68, 243, 166, 151, 31, 5, 98, 40, 66, 79, 76, 35, 147, 7, 46, 7, 13, 22, 101, 35, 194, 25, 158, 2, 7, 24, 31, 5, 93, 69, 123, 7, 6, 300, 59, 80, 6, 133, 3, 40, 113, 1, 177, 367, 70, 10, 4, 481, 32, 1, 206, 91, 91, 30, 1, 64, 5, 29, 127, 2, 1, 168, 89, 259, 52, 157, 16, 27, 64, 32, 1, 194, 4, 11, 30, 10, 3, 41, 2, 45, 64, 174, 7, 46, 12, 508, 17, 1, 32, 7, 19, 60, 128, 31, 5, 3, 1, 44, 10, 1, 25, 5, 32, 8, 212, 96, 197, 4, 44, 1, 18, 151, 40, 86, 160, 247, 34, 6, 31, 20, 5, 42, 6, 53, 14, 180, 23, 24, 3, 12, 14, 20, 3, 4, 67, 15, 2, 62, 321, 12, 90, 251, 61, 15, 4, 33, 11, 27, 42, 84, 39, 10, 26, 153, 115, 3, 92, 336, 170, 315, 8, 21, 21, 1, 175, 6, 251, 195, 16, 24, 35, 1, 136, 15, 162, 30, 4, 9, 209, 38, 18, 1, 5, 170, 43, 128, 26, 29, 51, 41, 3, 25, 1, 1, 2, 69, 48, 171, 15, 413, 209, 10, 2, 131, 11, 171, 2, 1, 198, 137, 226, 20, 3, 8, 239, 66, 9, 4, 170, 24, 1, 46, 124, 27, 31, 49, 19, 89, 4, 160, 280, 148, 4, 6, 5, 33, 20, 25, 90, 1, 149, 15, 31, 40, 4, 121, 40, 18, 15, 1, 4, 8, 5, 223, 171, 9, 27, 70, 5, 73, 13, 1, 13, 18, 124, 11, 66, 1, 9, 88, 29, 30, 153, 16, 56, 6, 1, 137, 19, 58, 32, 61, 73, 117, 7, 9, 1, 68, 4, 14, 25, 9, 18, 24, 24, 21, 71, 38, 110, 7, 127, 1, 227, 3, 9, 1, 3, 1, 100, 3, 10, 37, 10, 17, 1, 81, 108, 29, 3, 63, 230, 28, 18, 16, 66, 4, 169, 26, 102, 9, 10, 429, 20, 39, 331, 6, 3, 2, 4, 18, 137, 2, 23, 1, 57, 46, 81, 3, 21, 231, 1, 70, 7, 87, 126, 145, 17, 126, 63, 8, 280, 66, 16, 64, 5, 34, 3, 384, 8, 18, 45, 2, 41, 1, 4, 3, 23, 39, 25, 96, 85, 132, 45, 1, 261, 82, 14, 28, 59, 22, 23, 8, 10, 25, 7, 13, 22, 49, 65, 2, 4, 1, 121, 40, 7, 1, 4, 162, 31, 20, 143, 6, 117, 53, 69, 42, 297, 1, 4, 4, 6, 1, 9, 1, 7, 59, 9, 4, 53, 3, 58, 7, 3, 128, 5, 40, 21, 65, 173, 4, 4, 44, 298, 5, 81, 1, 3, 485, 1, 53, 7, 10, 148, 2, 220, 16, 22, 2, 12, 10, 41, 9, 18, 102, 23, 27, 5, 63, 4, 5, 187, 185, 55, 24, 8, 12, 125, 34, 158, 18, 1, 12, 12, 50, 1, 42, 4, 2, 7, 8, 10, 26, 3, 10, 1, 44, 206, 18, 1, 20, 2, 47, 1, 13, 7, 27, 91, 17, 5, 121, 19, 46, 54, 138, 1, 52, 80, 68, 1, 12, 7, 9, 9, 131, 91, 27, 13, 58, 6, 13, 22, 1, 217, 78, 178, 39, 59, 129, 1, 51, 95, 128, 20, 4, 8, 69, 34, 25, 31, 7, 2, 303, 2, 50, 7, 6, 36, 15, 119, 92, 24, 5, 80, 184, 11, 3, 37, 1, 89, 101, 6, 101, 1, 66, 344, 21, 15, 1, 42, 3, 92, 43, 9, 316, 174, 7, 49, 43, 1, 169, 22, 44, 293, 2, 12, 105, 4, 23, 96, 15, 192, 22, 22, 176, 82, 134, 84, 218, 60, 9, 100, 17, 172, 11, 125, 21, 3, 62, 86, 121, 2, 93, 27, 30, 130, 8, 25, 69, 2, 7, 128, 81, 3, 1, 4, 120, 12, 1, 2, 2, 4, 9, 1, 1, 44, 2, 32, 7, 64, 36, 143, 111, 3, 127, 4, 6, 58, 26, 90, 5, 1, 46, 1, 7, 179, 54, 3, 1, 7, 52, 24, 3, 163, 6, 1, 5, 6, 1, 5, 32, 64, 22, 85, 106, 50, 38, 28, 31, 112, 264, 15, 39, 2, 31, 7, 34, 21, 72, 1, 19, 104, 2, 12, 22, 14, 13, 5, 40, 20, 7, 73, 27, 1, 3, 46, 16, 28, 8, 33, 136, 136, 8, 215, 14, 4, 50, 44, 8, 43, 80, 13, 1, 5, 244, 137, 104, 168, 18, 10, 81, 4, 26, 114, 101, 127, 43, 51, 9, 13, 1, 27, 7, 10, 25, 183, 58, 48, 1, 68, 3, 164, 3, 40, 178, 13, 324, 15, 5, 67, 100, 149, 31, 6, 1, 20, 32, 239, 394, 79, 7, 2, 7, 1, 24, 27, 48, 67, 3, 175, 5, 12, 116, 420, 145, 58, 256, 70, 267, 1, 18, 119, 77, 209, 66, 90, 8, 57, 13, 52, 58, 3, 25, 1, 150, 43, 3, 8, 39, 148, 71, 44, 507, 92, 5, 15, 89, 21, 44, 157, 1, 43, 146, 17, 92, 18, 56, 75, 11, 378, 49, 68, 37, 5, 98, 134, 13, 5, 90, 114, 2, 23, 64, 16, 174, 4, 2, 64, 190, 13, 2, 2, 316, 2, 82, 2, 3, 2, 5, 298, 4, 12, 478, 106, 1, 46, 3, 138, 6, 5, 6, 79, 71, 162, 16, 268, 7, 54, 19, 236, 155, 72, 101, 2, 74, 44, 1, 45, 78, 1, 30, 17, 46, 66, 26, 283, 53, 73, 12, 129, 206, 3, 10, 1, 67, 2, 23, 390, 1, 10, 3, 137, 59, 74, 9, 82, 169, 213, 1, 5, 136, 2, 37, 1, 25, 48, 74, 150, 172, 4, 95, 12, 41, 59, 128, 2, 2, 1, 26, 82, 39, 58, 59, 222, 93, 1, 27, 143, 20, 45, 36, 230, 38, 30, 41, 26, 2, 97, 3, 43, 3, 9, 12, 11, 227, 3, 12, 19, 171, 199, 63, 161, 365, 116, 117, 244, 583, 127, 3, 211, 7, 64, 19, 1, 29, 241, 5, 5, 87, 7, 3, 11, 8, 98, 104, 12, 5, 67, 16, 17, 12, 4, 49, 47, 2, 11, 1, 65, 8, 26, 65, 19, 11, 4, 7, 44, 1, 7, 47, 157, 39, 17, 13, 82, 1, 1, 1, 43, 55, 27, 5, 13, 41, 1, 182, 13, 3, 34, 295, 301, 1, 6, 19, 41, 11, 176, 1, 2, 4, 5, 1, 7, 35, 12, 60, 71, 49, 72, 18, 191, 37, 22, 64, 83, 59, 1, 89, 9, 31, 32, 7, 1, 2, 232, 31, 193, 40, 51, 350, 18, 50, 1, 87, 44, 2, 219, 14, 57, 1, 9, 12, 108, 66, 180, 220, 21, 4, 9, 34, 2, 1, 452, 250, 32, 13, 80, 50, 23, 7, 35, 9, 208, 104, 11, 19, 272, 3, 5, 23, 2, 29, 392, 4, 6, 6, 293, 5, 4, 1, 7, 25, 4, 64, 9, 184, 21, 92, 124, 48, 5, 4, 4, 34, 182, 10, 22, 23, 11, 85, 47, 267, 12, 6, 27, 75, 2, 2, 1, 179, 93, 1, 77, 1, 22, 38, 2, 219, 137, 47, 16, 63, 1, 26, 4, 8, 67, 9, 1, 15, 10, 34, 102, 1, 3, 72, 60, 22, 112, 1, 35, 8, 115, 45, 290, 5, 44, 39, 16, 162, 10, 10, 85, 6, 19, 1, 9, 12, 43, 14, 11, 106, 326, 1, 1, 57, 75, 75, 9, 27, 46, 13, 1, 246, 67, 1, 15, 10, 10, 3, 6, 118, 50, 1, 7, 1, 200, 101, 44, 41, 6, 9, 1], \"xbins\": {\"size\": 2, \"start\": 0}}],\n",
       "                        {\"bargap\": 0.2, \"template\": {\"data\": {\"bar\": [{\"error_x\": {\"color\": \"#2a3f5f\"}, \"error_y\": {\"color\": \"#2a3f5f\"}, \"marker\": {\"line\": {\"color\": \"#E5ECF6\", \"width\": 0.5}}, \"type\": \"bar\"}], \"barpolar\": [{\"marker\": {\"line\": {\"color\": \"#E5ECF6\", \"width\": 0.5}}, \"type\": \"barpolar\"}], \"carpet\": [{\"aaxis\": {\"endlinecolor\": \"#2a3f5f\", \"gridcolor\": \"white\", \"linecolor\": \"white\", \"minorgridcolor\": \"white\", \"startlinecolor\": \"#2a3f5f\"}, \"baxis\": {\"endlinecolor\": \"#2a3f5f\", \"gridcolor\": \"white\", \"linecolor\": \"white\", \"minorgridcolor\": \"white\", \"startlinecolor\": \"#2a3f5f\"}, \"type\": \"carpet\"}], \"choropleth\": [{\"colorbar\": {\"outlinewidth\": 0, \"ticks\": \"\"}, \"type\": \"choropleth\"}], \"contour\": [{\"colorbar\": {\"outlinewidth\": 0, \"ticks\": \"\"}, \"colorscale\": [[0.0, \"#0d0887\"], [0.1111111111111111, \"#46039f\"], [0.2222222222222222, \"#7201a8\"], [0.3333333333333333, \"#9c179e\"], [0.4444444444444444, \"#bd3786\"], [0.5555555555555556, \"#d8576b\"], [0.6666666666666666, \"#ed7953\"], [0.7777777777777778, \"#fb9f3a\"], [0.8888888888888888, \"#fdca26\"], [1.0, \"#f0f921\"]], \"type\": \"contour\"}], \"contourcarpet\": [{\"colorbar\": {\"outlinewidth\": 0, \"ticks\": \"\"}, \"type\": \"contourcarpet\"}], \"heatmap\": [{\"colorbar\": {\"outlinewidth\": 0, \"ticks\": \"\"}, \"colorscale\": [[0.0, \"#0d0887\"], [0.1111111111111111, \"#46039f\"], [0.2222222222222222, \"#7201a8\"], [0.3333333333333333, \"#9c179e\"], [0.4444444444444444, \"#bd3786\"], [0.5555555555555556, \"#d8576b\"], [0.6666666666666666, \"#ed7953\"], [0.7777777777777778, \"#fb9f3a\"], [0.8888888888888888, \"#fdca26\"], [1.0, \"#f0f921\"]], \"type\": \"heatmap\"}], \"heatmapgl\": [{\"colorbar\": {\"outlinewidth\": 0, \"ticks\": \"\"}, \"colorscale\": [[0.0, \"#0d0887\"], [0.1111111111111111, \"#46039f\"], [0.2222222222222222, \"#7201a8\"], [0.3333333333333333, \"#9c179e\"], [0.4444444444444444, \"#bd3786\"], [0.5555555555555556, \"#d8576b\"], [0.6666666666666666, \"#ed7953\"], [0.7777777777777778, \"#fb9f3a\"], [0.8888888888888888, \"#fdca26\"], [1.0, \"#f0f921\"]], \"type\": \"heatmapgl\"}], \"histogram\": [{\"marker\": {\"colorbar\": {\"outlinewidth\": 0, \"ticks\": \"\"}}, \"type\": \"histogram\"}], \"histogram2d\": [{\"colorbar\": {\"outlinewidth\": 0, \"ticks\": \"\"}, \"colorscale\": [[0.0, \"#0d0887\"], [0.1111111111111111, \"#46039f\"], [0.2222222222222222, \"#7201a8\"], [0.3333333333333333, \"#9c179e\"], [0.4444444444444444, \"#bd3786\"], [0.5555555555555556, \"#d8576b\"], [0.6666666666666666, \"#ed7953\"], [0.7777777777777778, \"#fb9f3a\"], [0.8888888888888888, \"#fdca26\"], [1.0, \"#f0f921\"]], \"type\": \"histogram2d\"}], \"histogram2dcontour\": [{\"colorbar\": {\"outlinewidth\": 0, \"ticks\": \"\"}, \"colorscale\": [[0.0, \"#0d0887\"], [0.1111111111111111, \"#46039f\"], [0.2222222222222222, \"#7201a8\"], [0.3333333333333333, \"#9c179e\"], [0.4444444444444444, \"#bd3786\"], [0.5555555555555556, \"#d8576b\"], [0.6666666666666666, \"#ed7953\"], [0.7777777777777778, \"#fb9f3a\"], [0.8888888888888888, \"#fdca26\"], [1.0, \"#f0f921\"]], \"type\": \"histogram2dcontour\"}], \"mesh3d\": [{\"colorbar\": {\"outlinewidth\": 0, \"ticks\": \"\"}, \"type\": \"mesh3d\"}], \"parcoords\": [{\"line\": {\"colorbar\": {\"outlinewidth\": 0, \"ticks\": \"\"}}, \"type\": \"parcoords\"}], \"pie\": [{\"automargin\": true, \"type\": \"pie\"}], \"scatter\": [{\"marker\": {\"colorbar\": {\"outlinewidth\": 0, \"ticks\": \"\"}}, \"type\": \"scatter\"}], \"scatter3d\": [{\"line\": {\"colorbar\": {\"outlinewidth\": 0, \"ticks\": \"\"}}, \"marker\": {\"colorbar\": {\"outlinewidth\": 0, \"ticks\": \"\"}}, \"type\": \"scatter3d\"}], \"scattercarpet\": [{\"marker\": {\"colorbar\": {\"outlinewidth\": 0, \"ticks\": \"\"}}, \"type\": \"scattercarpet\"}], \"scattergeo\": [{\"marker\": {\"colorbar\": {\"outlinewidth\": 0, \"ticks\": \"\"}}, \"type\": \"scattergeo\"}], \"scattergl\": [{\"marker\": {\"colorbar\": {\"outlinewidth\": 0, \"ticks\": \"\"}}, \"type\": \"scattergl\"}], \"scattermapbox\": [{\"marker\": {\"colorbar\": {\"outlinewidth\": 0, \"ticks\": \"\"}}, \"type\": \"scattermapbox\"}], \"scatterpolar\": [{\"marker\": {\"colorbar\": {\"outlinewidth\": 0, \"ticks\": \"\"}}, \"type\": \"scatterpolar\"}], \"scatterpolargl\": [{\"marker\": {\"colorbar\": {\"outlinewidth\": 0, \"ticks\": \"\"}}, \"type\": \"scatterpolargl\"}], \"scatterternary\": [{\"marker\": {\"colorbar\": {\"outlinewidth\": 0, \"ticks\": \"\"}}, \"type\": \"scatterternary\"}], \"surface\": [{\"colorbar\": {\"outlinewidth\": 0, \"ticks\": \"\"}, \"colorscale\": [[0.0, \"#0d0887\"], [0.1111111111111111, \"#46039f\"], [0.2222222222222222, \"#7201a8\"], [0.3333333333333333, \"#9c179e\"], [0.4444444444444444, \"#bd3786\"], [0.5555555555555556, \"#d8576b\"], [0.6666666666666666, \"#ed7953\"], [0.7777777777777778, \"#fb9f3a\"], [0.8888888888888888, \"#fdca26\"], [1.0, \"#f0f921\"]], \"type\": \"surface\"}], \"table\": [{\"cells\": {\"fill\": {\"color\": \"#EBF0F8\"}, \"line\": {\"color\": \"white\"}}, \"header\": {\"fill\": {\"color\": \"#C8D4E3\"}, \"line\": {\"color\": \"white\"}}, \"type\": \"table\"}]}, \"layout\": {\"annotationdefaults\": {\"arrowcolor\": \"#2a3f5f\", \"arrowhead\": 0, \"arrowwidth\": 1}, \"coloraxis\": {\"colorbar\": {\"outlinewidth\": 0, \"ticks\": \"\"}}, \"colorscale\": {\"diverging\": [[0, \"#8e0152\"], [0.1, \"#c51b7d\"], [0.2, \"#de77ae\"], [0.3, \"#f1b6da\"], [0.4, \"#fde0ef\"], [0.5, \"#f7f7f7\"], [0.6, \"#e6f5d0\"], [0.7, \"#b8e186\"], [0.8, \"#7fbc41\"], [0.9, \"#4d9221\"], [1, \"#276419\"]], \"sequential\": [[0.0, \"#0d0887\"], [0.1111111111111111, \"#46039f\"], [0.2222222222222222, \"#7201a8\"], [0.3333333333333333, \"#9c179e\"], [0.4444444444444444, \"#bd3786\"], [0.5555555555555556, \"#d8576b\"], [0.6666666666666666, \"#ed7953\"], [0.7777777777777778, \"#fb9f3a\"], [0.8888888888888888, \"#fdca26\"], [1.0, \"#f0f921\"]], \"sequentialminus\": [[0.0, \"#0d0887\"], [0.1111111111111111, \"#46039f\"], [0.2222222222222222, \"#7201a8\"], [0.3333333333333333, \"#9c179e\"], [0.4444444444444444, \"#bd3786\"], [0.5555555555555556, \"#d8576b\"], [0.6666666666666666, \"#ed7953\"], [0.7777777777777778, \"#fb9f3a\"], [0.8888888888888888, \"#fdca26\"], [1.0, \"#f0f921\"]]}, \"colorway\": [\"#636efa\", \"#EF553B\", \"#00cc96\", \"#ab63fa\", \"#FFA15A\", \"#19d3f3\", \"#FF6692\", \"#B6E880\", \"#FF97FF\", \"#FECB52\"], \"font\": {\"color\": \"#2a3f5f\"}, \"geo\": {\"bgcolor\": \"white\", \"lakecolor\": \"white\", \"landcolor\": \"#E5ECF6\", \"showlakes\": true, \"showland\": true, \"subunitcolor\": \"white\"}, \"hoverlabel\": {\"align\": \"left\"}, \"hovermode\": \"closest\", \"mapbox\": {\"style\": \"light\"}, \"paper_bgcolor\": \"white\", \"plot_bgcolor\": \"#E5ECF6\", \"polar\": {\"angularaxis\": {\"gridcolor\": \"white\", \"linecolor\": \"white\", \"ticks\": \"\"}, \"bgcolor\": \"#E5ECF6\", \"radialaxis\": {\"gridcolor\": \"white\", \"linecolor\": \"white\", \"ticks\": \"\"}}, \"scene\": {\"xaxis\": {\"backgroundcolor\": \"#E5ECF6\", \"gridcolor\": \"white\", \"gridwidth\": 2, \"linecolor\": \"white\", \"showbackground\": true, \"ticks\": \"\", \"zerolinecolor\": \"white\"}, \"yaxis\": {\"backgroundcolor\": \"#E5ECF6\", \"gridcolor\": \"white\", \"gridwidth\": 2, \"linecolor\": \"white\", \"showbackground\": true, \"ticks\": \"\", \"zerolinecolor\": \"white\"}, \"zaxis\": {\"backgroundcolor\": \"#E5ECF6\", \"gridcolor\": \"white\", \"gridwidth\": 2, \"linecolor\": \"white\", \"showbackground\": true, \"ticks\": \"\", \"zerolinecolor\": \"white\"}}, \"shapedefaults\": {\"line\": {\"color\": \"#2a3f5f\"}}, \"ternary\": {\"aaxis\": {\"gridcolor\": \"white\", \"linecolor\": \"white\", \"ticks\": \"\"}, \"baxis\": {\"gridcolor\": \"white\", \"linecolor\": \"white\", \"ticks\": \"\"}, \"bgcolor\": \"#E5ECF6\", \"caxis\": {\"gridcolor\": \"white\", \"linecolor\": \"white\", \"ticks\": \"\"}}, \"title\": {\"x\": 0.05}, \"xaxis\": {\"automargin\": true, \"gridcolor\": \"white\", \"linecolor\": \"white\", \"ticks\": \"\", \"title\": {\"standoff\": 15}, \"zerolinecolor\": \"white\", \"zerolinewidth\": 2}, \"yaxis\": {\"automargin\": true, \"gridcolor\": \"white\", \"linecolor\": \"white\", \"ticks\": \"\", \"title\": {\"standoff\": 15}, \"zerolinecolor\": \"white\", \"zerolinewidth\": 2}}}, \"title\": {\"text\": \"Distribution Of Number of Ratings Per Movie\"}, \"xaxis\": {\"title\": {\"text\": \"Number of Ratings Per Movie\"}}, \"yaxis\": {\"title\": {\"text\": \"Count\"}}},\n",
       "                        {\"responsive\": true}\n",
       "                    ).then(function(){\n",
       "                            \n",
       "var gd = document.getElementById('8d186ed9-6298-4e51-8b5e-5fd75e8be8e2');\n",
       "var x = new MutationObserver(function (mutations, observer) {{\n",
       "        var display = window.getComputedStyle(gd).display;\n",
       "        if (!display || display === 'none') {{\n",
       "            console.log([gd, 'removed!']);\n",
       "            Plotly.purge(gd);\n",
       "            observer.disconnect();\n",
       "        }}\n",
       "}});\n",
       "\n",
       "// Listen for the removal of the full notebook cells\n",
       "var notebookContainer = gd.closest('#notebook-container');\n",
       "if (notebookContainer) {{\n",
       "    x.observe(notebookContainer, {childList: true});\n",
       "}}\n",
       "\n",
       "// Listen for the clearing of the current output cell\n",
       "var outputEl = gd.closest('.output');\n",
       "if (outputEl) {{\n",
       "    x.observe(outputEl, {childList: true});\n",
       "}}\n",
       "\n",
       "                        })\n",
       "                };\n",
       "                });\n",
       "            </script>\n",
       "        </div>"
      ]
     },
     "metadata": {},
     "output_type": "display_data"
    }
   ],
   "source": [
    "# Number of ratings per movie\n",
    "data = df.groupby('title')['rating'].count()\n",
    "\n",
    "# Create trace\n",
    "trace = go.Histogram(x = data.values,\n",
    "                     name = 'Ratings',\n",
    "                     xbins = dict(start = 0,size = 2))\n",
    "# Create layout\n",
    "layout = go.Layout(title = 'Distribution Of Number of Ratings Per Movie',\n",
    "                   xaxis = dict(title = 'Number of Ratings Per Movie'),\n",
    "                   yaxis = dict(title = 'Count'),\n",
    "                   bargap = 0.2)\n",
    "\n",
    "# Create plot\n",
    "fig = go.Figure(data=[trace], layout=layout)\n",
    "iplot(fig)"
   ]
  },
  {
   "cell_type": "markdown",
   "metadata": {},
   "source": [
    "Most of the movies received less than 10 ratings, and very few have many ratings. As discussed in class, this is very typical (and in fact one of the main problems) of Recommender Systems.\n",
    "\n",
    "**Note:** This effect is even smaller in the MovieLens dataset since it is an experimental dataset that has been curated for it (i.e., from the documentation: \"Each user has rated at least 20 movies\").\n"
   ]
  },
  {
   "cell_type": "markdown",
   "metadata": {},
   "source": [
    "### Number of ratings per user\n",
    "\n",
    "Now it's time to see how many ratings we have per user. As previously noted, because of how the dataset was created, the minimum number of ratings per user in this dataset is 20, which alleviates the long-tail problem (i.e., when most of your users has very few or 0 ratings). \n",
    "\n",
    "Since this is an experimental dataset for research, they have created it this way. However, do not expect that in the real world. In fact, a common pre-processing step in recommendation is to remove those users/items for which you do not have many ratings and focus on the rest (at least for creating your model)."
   ]
  },
  {
   "cell_type": "code",
   "execution_count": 5,
   "metadata": {},
   "outputs": [
    {
     "data": {
      "application/vnd.plotly.v1+json": {
       "config": {
        "linkText": "Export to plot.ly",
        "plotlyServerURL": "https://plot.ly",
        "showLink": false
       },
       "data": [
        {
         "name": "Ratings",
         "type": "histogram",
         "x": [
          272,
          62,
          54,
          24,
          175,
          211,
          403,
          59,
          22,
          184,
          181,
          51,
          636,
          98,
          104,
          140,
          28,
          277,
          20,
          48,
          179,
          128,
          151,
          68,
          78,
          107,
          25,
          79,
          34,
          43,
          36,
          41,
          24,
          20,
          25,
          20,
          57,
          121,
          22,
          35,
          52,
          183,
          221,
          151,
          48,
          27,
          25,
          66,
          215,
          24,
          23,
          56,
          28,
          65,
          21,
          187,
          106,
          154,
          382,
          208,
          21,
          232,
          93,
          200,
          80,
          38,
          30,
          34,
          65,
          131,
          38,
          137,
          66,
          39,
          79,
          82,
          72,
          21,
          55,
          29,
          58,
          168,
          155,
          68,
          288,
          23,
          211,
          21,
          76,
          300,
          98,
          388,
          20,
          400,
          278,
          56,
          63,
          27,
          136,
          59,
          67,
          216,
          29,
          111,
          23,
          64,
          22,
          33,
          234,
          133,
          24,
          46,
          51,
          48,
          92,
          143,
          86,
          71,
          181,
          26,
          74,
          61,
          54,
          24,
          182,
          45,
          23,
          184,
          30,
          353,
          30,
          22,
          26,
          25,
          55,
          35,
          47,
          51,
          24,
          21,
          107,
          33,
          20,
          206,
          316,
          29,
          20,
          65,
          36,
          32,
          307,
          106,
          23,
          51,
          22,
          37,
          51,
          173,
          107,
          120,
          58,
          42,
          23,
          63,
          30,
          20,
          69,
          69,
          37,
          22,
          28,
          27,
          43,
          177,
          38,
          63,
          115,
          273,
          42,
          63,
          435,
          28,
          53,
          251,
          48,
          92,
          56,
          112,
          187,
          59,
          27,
          35,
          121,
          305,
          96,
          39,
          118,
          181,
          40,
          216,
          386,
          20,
          43,
          42,
          22,
          64,
          230,
          33,
          33,
          132,
          37,
          25,
          126,
          128,
          93,
          131,
          76,
          53,
          28,
          22,
          146,
          387,
          105,
          141,
          27,
          50,
          58,
          21,
          30,
          133,
          21,
          93,
          110,
          480,
          94,
          124,
          48,
          29,
          159,
          24,
          23,
          20,
          81,
          238,
          22,
          195,
          26,
          56,
          161,
          122,
          77,
          21,
          97,
          159,
          83,
          207,
          57,
          23,
          46,
          24,
          27,
          160,
          123,
          120,
          46,
          23,
          185,
          328,
          323,
          138,
          278,
          51,
          22,
          71,
          95,
          518,
          54,
          23,
          434,
          258,
          26,
          22,
          53,
          47,
          32,
          288,
          62,
          75,
          27,
          150,
          296,
          124,
          388,
          150,
          196,
          147,
          192,
          127,
          280,
          20,
          275,
          21,
          484,
          26,
          222,
          32,
          112,
          397,
          20,
          21,
          294,
          223,
          262,
          245,
          87,
          75,
          22,
          174,
          23,
          154,
          125,
          51,
          89,
          66,
          142,
          187,
          284,
          283,
          65,
          147,
          70,
          183,
          26,
          333,
          22,
          130,
          34,
          75,
          254,
          44,
          21,
          201,
          237,
          190,
          232,
          193,
          199,
          58,
          41,
          50,
          44,
          42,
          25,
          233,
          26,
          24,
          76,
          43,
          27,
          102,
          121,
          25,
          311,
          20,
          58,
          33,
          58,
          45,
          22,
          75,
          51,
          66,
          233,
          274,
          28,
          30,
          33,
          375,
          196,
          162,
          127,
          53,
          71,
          22,
          281,
          23,
          304,
          52,
          271,
          31,
          121,
          111,
          448,
          149,
          57,
          54,
          102,
          172,
          319,
          22,
          153,
          68,
          50,
          44,
          737,
          342,
          226,
          27,
          203,
          28,
          58,
          51,
          50,
          25,
          24,
          493,
          365,
          20,
          32,
          36,
          62,
          97,
          64,
          44,
          204,
          101,
          31,
          55,
          414,
          65,
          21,
          62,
          41,
          44,
          379,
          145,
          263,
          33,
          31,
          51,
          20,
          143,
          24,
          24,
          135,
          36,
          139,
          38,
          75,
          540,
          98,
          206,
          156,
          236,
          189,
          217,
          277,
          183,
          118,
          68,
          23,
          33,
          133,
          53,
          80,
          101,
          44,
          143,
          43,
          57,
          31,
          263,
          35,
          327,
          20,
          83,
          35,
          113,
          202,
          60,
          56,
          26,
          59,
          139,
          26,
          189,
          231,
          154,
          109,
          57,
          33,
          55,
          135,
          47,
          213,
          129,
          279,
          149,
          102,
          225,
          73,
          37,
          160,
          251,
          112,
          242,
          58,
          87,
          33,
          30,
          24,
          21,
          22,
          194,
          40,
          21,
          37,
          73,
          49,
          23,
          150,
          30,
          100,
          306,
          54,
          68,
          137,
          53,
          43,
          45,
          30,
          274,
          260,
          80,
          218,
          163,
          490,
          81,
          56,
          63,
          133,
          135,
          197,
          31,
          162,
          59,
          23,
          155,
          25,
          40,
          334,
          84,
          100,
          114,
          52,
          44,
          53,
          20,
          76,
          101,
          357,
          72,
          30,
          34,
          35,
          149,
          155,
          81,
          70,
          22,
          20,
          20,
          51,
          46,
          26,
          36,
          188,
          24,
          74,
          47,
          28,
          62,
          27,
          24,
          80,
          166,
          98,
          225,
          43,
          48,
          84,
          360,
          156,
          25,
          96,
          20,
          41,
          25,
          47,
          89,
          148,
          29,
          47,
          27,
          90,
          236,
          37,
          163,
          28,
          75,
          42,
          27,
          28,
          39,
          103,
          43,
          108,
          216,
          89,
          110,
          171,
          228,
          45,
          141,
          106,
          32,
          181,
          27,
          121,
          108,
          20,
          118,
          58,
          135,
          34,
          20,
          104,
          67,
          148,
          109,
          40,
          318,
          206,
          42,
          122,
          38,
          58,
          297,
          24,
          311,
          21,
          22,
          283,
          147,
          685,
          24,
          29,
          71,
          191,
          224,
          121,
          23,
          158,
          166,
          142,
          245,
          47,
          46,
          100,
          46,
          124,
          29,
          35,
          41,
          34,
          77,
          49,
          28,
          62,
          38,
          22,
          399,
          75,
          86,
          20,
          71,
          21,
          24,
          36,
          115,
          32,
          40,
          154,
          157,
          38,
          29,
          105,
          127,
          149,
          21,
          33,
          31,
          47,
          90,
          114,
          29,
          236,
          105,
          138,
          86,
          221,
          162,
          30,
          44,
          167,
          269,
          93,
          39,
          67,
          30,
          168,
          42,
          22,
          85,
          25,
          24,
          322,
          26,
          21,
          38,
          83,
          20,
          107,
          64,
          53,
          24,
          33,
          148,
          35,
          20,
          104,
          26,
          35,
          27,
          60,
          67,
          293,
          108,
          305,
          33,
          168,
          73,
          57,
          34,
          38,
          109,
          166,
          357,
          32,
          41,
          66,
          21,
          129,
          109,
          23,
          175,
          37,
          64,
          29,
          64,
          70,
          33,
          161,
          224,
          28,
          105,
          36,
          65,
          37,
          55,
          42,
          232,
          30,
          39,
          27,
          117,
          57,
          249,
          33,
          231,
          25,
          47,
          55,
          39,
          159,
          358,
          26,
          239,
          24,
          28,
          26,
          75,
          33,
          332,
          273,
          140,
          204,
          23,
          20,
          26,
          21,
          20,
          29,
          35,
          183,
          25,
          36,
          21,
          28,
          21,
          62,
          25,
          185,
          20,
          145,
          115,
          28,
          104,
          64,
          106,
          73,
          25,
          267,
          54,
          102,
          50,
          46,
          93,
          57,
          197,
          31,
          27,
          204,
          81,
          31,
          405,
          146,
          150,
          23,
          51,
          209,
          49,
          41,
          217,
          23,
          26,
          22,
          21,
          39,
          71,
          43,
          165,
          107,
          294,
          66,
          20,
          95,
          208,
          47,
          269,
          115,
          71,
          20,
          34,
          89,
          21,
          81,
          134,
          29,
          368,
          259,
          137,
          268,
          43,
          102,
          240,
          171,
          20,
          326,
          119,
          47,
          226,
          59,
          245,
          20,
          362,
          185,
          30,
          135,
          45,
          124,
          49,
          136,
          47,
          40,
          41,
          147,
          74,
          26,
          60,
          98,
          53,
          132,
          23,
          26,
          317,
          35,
          103,
          217,
          26,
          110,
          127,
          74,
          82,
          32,
          20,
          120,
          32,
          49,
          63,
          61,
          241,
          184,
          174,
          39,
          142,
          40,
          108,
          49,
          107,
          22,
          79,
          168
         ],
         "xbins": {
          "size": 2,
          "start": 0
         }
        }
       ],
       "layout": {
        "bargap": 0.2,
        "template": {
         "data": {
          "bar": [
           {
            "error_x": {
             "color": "#2a3f5f"
            },
            "error_y": {
             "color": "#2a3f5f"
            },
            "marker": {
             "line": {
              "color": "#E5ECF6",
              "width": 0.5
             }
            },
            "type": "bar"
           }
          ],
          "barpolar": [
           {
            "marker": {
             "line": {
              "color": "#E5ECF6",
              "width": 0.5
             }
            },
            "type": "barpolar"
           }
          ],
          "carpet": [
           {
            "aaxis": {
             "endlinecolor": "#2a3f5f",
             "gridcolor": "white",
             "linecolor": "white",
             "minorgridcolor": "white",
             "startlinecolor": "#2a3f5f"
            },
            "baxis": {
             "endlinecolor": "#2a3f5f",
             "gridcolor": "white",
             "linecolor": "white",
             "minorgridcolor": "white",
             "startlinecolor": "#2a3f5f"
            },
            "type": "carpet"
           }
          ],
          "choropleth": [
           {
            "colorbar": {
             "outlinewidth": 0,
             "ticks": ""
            },
            "type": "choropleth"
           }
          ],
          "contour": [
           {
            "colorbar": {
             "outlinewidth": 0,
             "ticks": ""
            },
            "colorscale": [
             [
              0,
              "#0d0887"
             ],
             [
              0.1111111111111111,
              "#46039f"
             ],
             [
              0.2222222222222222,
              "#7201a8"
             ],
             [
              0.3333333333333333,
              "#9c179e"
             ],
             [
              0.4444444444444444,
              "#bd3786"
             ],
             [
              0.5555555555555556,
              "#d8576b"
             ],
             [
              0.6666666666666666,
              "#ed7953"
             ],
             [
              0.7777777777777778,
              "#fb9f3a"
             ],
             [
              0.8888888888888888,
              "#fdca26"
             ],
             [
              1,
              "#f0f921"
             ]
            ],
            "type": "contour"
           }
          ],
          "contourcarpet": [
           {
            "colorbar": {
             "outlinewidth": 0,
             "ticks": ""
            },
            "type": "contourcarpet"
           }
          ],
          "heatmap": [
           {
            "colorbar": {
             "outlinewidth": 0,
             "ticks": ""
            },
            "colorscale": [
             [
              0,
              "#0d0887"
             ],
             [
              0.1111111111111111,
              "#46039f"
             ],
             [
              0.2222222222222222,
              "#7201a8"
             ],
             [
              0.3333333333333333,
              "#9c179e"
             ],
             [
              0.4444444444444444,
              "#bd3786"
             ],
             [
              0.5555555555555556,
              "#d8576b"
             ],
             [
              0.6666666666666666,
              "#ed7953"
             ],
             [
              0.7777777777777778,
              "#fb9f3a"
             ],
             [
              0.8888888888888888,
              "#fdca26"
             ],
             [
              1,
              "#f0f921"
             ]
            ],
            "type": "heatmap"
           }
          ],
          "heatmapgl": [
           {
            "colorbar": {
             "outlinewidth": 0,
             "ticks": ""
            },
            "colorscale": [
             [
              0,
              "#0d0887"
             ],
             [
              0.1111111111111111,
              "#46039f"
             ],
             [
              0.2222222222222222,
              "#7201a8"
             ],
             [
              0.3333333333333333,
              "#9c179e"
             ],
             [
              0.4444444444444444,
              "#bd3786"
             ],
             [
              0.5555555555555556,
              "#d8576b"
             ],
             [
              0.6666666666666666,
              "#ed7953"
             ],
             [
              0.7777777777777778,
              "#fb9f3a"
             ],
             [
              0.8888888888888888,
              "#fdca26"
             ],
             [
              1,
              "#f0f921"
             ]
            ],
            "type": "heatmapgl"
           }
          ],
          "histogram": [
           {
            "marker": {
             "colorbar": {
              "outlinewidth": 0,
              "ticks": ""
             }
            },
            "type": "histogram"
           }
          ],
          "histogram2d": [
           {
            "colorbar": {
             "outlinewidth": 0,
             "ticks": ""
            },
            "colorscale": [
             [
              0,
              "#0d0887"
             ],
             [
              0.1111111111111111,
              "#46039f"
             ],
             [
              0.2222222222222222,
              "#7201a8"
             ],
             [
              0.3333333333333333,
              "#9c179e"
             ],
             [
              0.4444444444444444,
              "#bd3786"
             ],
             [
              0.5555555555555556,
              "#d8576b"
             ],
             [
              0.6666666666666666,
              "#ed7953"
             ],
             [
              0.7777777777777778,
              "#fb9f3a"
             ],
             [
              0.8888888888888888,
              "#fdca26"
             ],
             [
              1,
              "#f0f921"
             ]
            ],
            "type": "histogram2d"
           }
          ],
          "histogram2dcontour": [
           {
            "colorbar": {
             "outlinewidth": 0,
             "ticks": ""
            },
            "colorscale": [
             [
              0,
              "#0d0887"
             ],
             [
              0.1111111111111111,
              "#46039f"
             ],
             [
              0.2222222222222222,
              "#7201a8"
             ],
             [
              0.3333333333333333,
              "#9c179e"
             ],
             [
              0.4444444444444444,
              "#bd3786"
             ],
             [
              0.5555555555555556,
              "#d8576b"
             ],
             [
              0.6666666666666666,
              "#ed7953"
             ],
             [
              0.7777777777777778,
              "#fb9f3a"
             ],
             [
              0.8888888888888888,
              "#fdca26"
             ],
             [
              1,
              "#f0f921"
             ]
            ],
            "type": "histogram2dcontour"
           }
          ],
          "mesh3d": [
           {
            "colorbar": {
             "outlinewidth": 0,
             "ticks": ""
            },
            "type": "mesh3d"
           }
          ],
          "parcoords": [
           {
            "line": {
             "colorbar": {
              "outlinewidth": 0,
              "ticks": ""
             }
            },
            "type": "parcoords"
           }
          ],
          "pie": [
           {
            "automargin": true,
            "type": "pie"
           }
          ],
          "scatter": [
           {
            "marker": {
             "colorbar": {
              "outlinewidth": 0,
              "ticks": ""
             }
            },
            "type": "scatter"
           }
          ],
          "scatter3d": [
           {
            "line": {
             "colorbar": {
              "outlinewidth": 0,
              "ticks": ""
             }
            },
            "marker": {
             "colorbar": {
              "outlinewidth": 0,
              "ticks": ""
             }
            },
            "type": "scatter3d"
           }
          ],
          "scattercarpet": [
           {
            "marker": {
             "colorbar": {
              "outlinewidth": 0,
              "ticks": ""
             }
            },
            "type": "scattercarpet"
           }
          ],
          "scattergeo": [
           {
            "marker": {
             "colorbar": {
              "outlinewidth": 0,
              "ticks": ""
             }
            },
            "type": "scattergeo"
           }
          ],
          "scattergl": [
           {
            "marker": {
             "colorbar": {
              "outlinewidth": 0,
              "ticks": ""
             }
            },
            "type": "scattergl"
           }
          ],
          "scattermapbox": [
           {
            "marker": {
             "colorbar": {
              "outlinewidth": 0,
              "ticks": ""
             }
            },
            "type": "scattermapbox"
           }
          ],
          "scatterpolar": [
           {
            "marker": {
             "colorbar": {
              "outlinewidth": 0,
              "ticks": ""
             }
            },
            "type": "scatterpolar"
           }
          ],
          "scatterpolargl": [
           {
            "marker": {
             "colorbar": {
              "outlinewidth": 0,
              "ticks": ""
             }
            },
            "type": "scatterpolargl"
           }
          ],
          "scatterternary": [
           {
            "marker": {
             "colorbar": {
              "outlinewidth": 0,
              "ticks": ""
             }
            },
            "type": "scatterternary"
           }
          ],
          "surface": [
           {
            "colorbar": {
             "outlinewidth": 0,
             "ticks": ""
            },
            "colorscale": [
             [
              0,
              "#0d0887"
             ],
             [
              0.1111111111111111,
              "#46039f"
             ],
             [
              0.2222222222222222,
              "#7201a8"
             ],
             [
              0.3333333333333333,
              "#9c179e"
             ],
             [
              0.4444444444444444,
              "#bd3786"
             ],
             [
              0.5555555555555556,
              "#d8576b"
             ],
             [
              0.6666666666666666,
              "#ed7953"
             ],
             [
              0.7777777777777778,
              "#fb9f3a"
             ],
             [
              0.8888888888888888,
              "#fdca26"
             ],
             [
              1,
              "#f0f921"
             ]
            ],
            "type": "surface"
           }
          ],
          "table": [
           {
            "cells": {
             "fill": {
              "color": "#EBF0F8"
             },
             "line": {
              "color": "white"
             }
            },
            "header": {
             "fill": {
              "color": "#C8D4E3"
             },
             "line": {
              "color": "white"
             }
            },
            "type": "table"
           }
          ]
         },
         "layout": {
          "annotationdefaults": {
           "arrowcolor": "#2a3f5f",
           "arrowhead": 0,
           "arrowwidth": 1
          },
          "coloraxis": {
           "colorbar": {
            "outlinewidth": 0,
            "ticks": ""
           }
          },
          "colorscale": {
           "diverging": [
            [
             0,
             "#8e0152"
            ],
            [
             0.1,
             "#c51b7d"
            ],
            [
             0.2,
             "#de77ae"
            ],
            [
             0.3,
             "#f1b6da"
            ],
            [
             0.4,
             "#fde0ef"
            ],
            [
             0.5,
             "#f7f7f7"
            ],
            [
             0.6,
             "#e6f5d0"
            ],
            [
             0.7,
             "#b8e186"
            ],
            [
             0.8,
             "#7fbc41"
            ],
            [
             0.9,
             "#4d9221"
            ],
            [
             1,
             "#276419"
            ]
           ],
           "sequential": [
            [
             0,
             "#0d0887"
            ],
            [
             0.1111111111111111,
             "#46039f"
            ],
            [
             0.2222222222222222,
             "#7201a8"
            ],
            [
             0.3333333333333333,
             "#9c179e"
            ],
            [
             0.4444444444444444,
             "#bd3786"
            ],
            [
             0.5555555555555556,
             "#d8576b"
            ],
            [
             0.6666666666666666,
             "#ed7953"
            ],
            [
             0.7777777777777778,
             "#fb9f3a"
            ],
            [
             0.8888888888888888,
             "#fdca26"
            ],
            [
             1,
             "#f0f921"
            ]
           ],
           "sequentialminus": [
            [
             0,
             "#0d0887"
            ],
            [
             0.1111111111111111,
             "#46039f"
            ],
            [
             0.2222222222222222,
             "#7201a8"
            ],
            [
             0.3333333333333333,
             "#9c179e"
            ],
            [
             0.4444444444444444,
             "#bd3786"
            ],
            [
             0.5555555555555556,
             "#d8576b"
            ],
            [
             0.6666666666666666,
             "#ed7953"
            ],
            [
             0.7777777777777778,
             "#fb9f3a"
            ],
            [
             0.8888888888888888,
             "#fdca26"
            ],
            [
             1,
             "#f0f921"
            ]
           ]
          },
          "colorway": [
           "#636efa",
           "#EF553B",
           "#00cc96",
           "#ab63fa",
           "#FFA15A",
           "#19d3f3",
           "#FF6692",
           "#B6E880",
           "#FF97FF",
           "#FECB52"
          ],
          "font": {
           "color": "#2a3f5f"
          },
          "geo": {
           "bgcolor": "white",
           "lakecolor": "white",
           "landcolor": "#E5ECF6",
           "showlakes": true,
           "showland": true,
           "subunitcolor": "white"
          },
          "hoverlabel": {
           "align": "left"
          },
          "hovermode": "closest",
          "mapbox": {
           "style": "light"
          },
          "paper_bgcolor": "white",
          "plot_bgcolor": "#E5ECF6",
          "polar": {
           "angularaxis": {
            "gridcolor": "white",
            "linecolor": "white",
            "ticks": ""
           },
           "bgcolor": "#E5ECF6",
           "radialaxis": {
            "gridcolor": "white",
            "linecolor": "white",
            "ticks": ""
           }
          },
          "scene": {
           "xaxis": {
            "backgroundcolor": "#E5ECF6",
            "gridcolor": "white",
            "gridwidth": 2,
            "linecolor": "white",
            "showbackground": true,
            "ticks": "",
            "zerolinecolor": "white"
           },
           "yaxis": {
            "backgroundcolor": "#E5ECF6",
            "gridcolor": "white",
            "gridwidth": 2,
            "linecolor": "white",
            "showbackground": true,
            "ticks": "",
            "zerolinecolor": "white"
           },
           "zaxis": {
            "backgroundcolor": "#E5ECF6",
            "gridcolor": "white",
            "gridwidth": 2,
            "linecolor": "white",
            "showbackground": true,
            "ticks": "",
            "zerolinecolor": "white"
           }
          },
          "shapedefaults": {
           "line": {
            "color": "#2a3f5f"
           }
          },
          "ternary": {
           "aaxis": {
            "gridcolor": "white",
            "linecolor": "white",
            "ticks": ""
           },
           "baxis": {
            "gridcolor": "white",
            "linecolor": "white",
            "ticks": ""
           },
           "bgcolor": "#E5ECF6",
           "caxis": {
            "gridcolor": "white",
            "linecolor": "white",
            "ticks": ""
           }
          },
          "title": {
           "x": 0.05
          },
          "xaxis": {
           "automargin": true,
           "gridcolor": "white",
           "linecolor": "white",
           "ticks": "",
           "title": {
            "standoff": 15
           },
           "zerolinecolor": "white",
           "zerolinewidth": 2
          },
          "yaxis": {
           "automargin": true,
           "gridcolor": "white",
           "linecolor": "white",
           "ticks": "",
           "title": {
            "standoff": 15
           },
           "zerolinecolor": "white",
           "zerolinewidth": 2
          }
         }
        },
        "title": {
         "text": "Distribution Of Number of Ratings Per User"
        },
        "xaxis": {
         "title": {
          "text": "Ratings Per User"
         }
        },
        "yaxis": {
         "title": {
          "text": "Count"
         }
        }
       }
      },
      "text/html": [
       "<div>\n",
       "        \n",
       "        \n",
       "            <div id=\"551280fb-091c-4173-a803-b92de4d95b0d\" class=\"plotly-graph-div\" style=\"height:525px; width:100%;\"></div>\n",
       "            <script type=\"text/javascript\">\n",
       "                require([\"plotly\"], function(Plotly) {\n",
       "                    window.PLOTLYENV=window.PLOTLYENV || {};\n",
       "                    \n",
       "                if (document.getElementById(\"551280fb-091c-4173-a803-b92de4d95b0d\")) {\n",
       "                    Plotly.newPlot(\n",
       "                        '551280fb-091c-4173-a803-b92de4d95b0d',\n",
       "                        [{\"name\": \"Ratings\", \"type\": \"histogram\", \"x\": [272, 62, 54, 24, 175, 211, 403, 59, 22, 184, 181, 51, 636, 98, 104, 140, 28, 277, 20, 48, 179, 128, 151, 68, 78, 107, 25, 79, 34, 43, 36, 41, 24, 20, 25, 20, 57, 121, 22, 35, 52, 183, 221, 151, 48, 27, 25, 66, 215, 24, 23, 56, 28, 65, 21, 187, 106, 154, 382, 208, 21, 232, 93, 200, 80, 38, 30, 34, 65, 131, 38, 137, 66, 39, 79, 82, 72, 21, 55, 29, 58, 168, 155, 68, 288, 23, 211, 21, 76, 300, 98, 388, 20, 400, 278, 56, 63, 27, 136, 59, 67, 216, 29, 111, 23, 64, 22, 33, 234, 133, 24, 46, 51, 48, 92, 143, 86, 71, 181, 26, 74, 61, 54, 24, 182, 45, 23, 184, 30, 353, 30, 22, 26, 25, 55, 35, 47, 51, 24, 21, 107, 33, 20, 206, 316, 29, 20, 65, 36, 32, 307, 106, 23, 51, 22, 37, 51, 173, 107, 120, 58, 42, 23, 63, 30, 20, 69, 69, 37, 22, 28, 27, 43, 177, 38, 63, 115, 273, 42, 63, 435, 28, 53, 251, 48, 92, 56, 112, 187, 59, 27, 35, 121, 305, 96, 39, 118, 181, 40, 216, 386, 20, 43, 42, 22, 64, 230, 33, 33, 132, 37, 25, 126, 128, 93, 131, 76, 53, 28, 22, 146, 387, 105, 141, 27, 50, 58, 21, 30, 133, 21, 93, 110, 480, 94, 124, 48, 29, 159, 24, 23, 20, 81, 238, 22, 195, 26, 56, 161, 122, 77, 21, 97, 159, 83, 207, 57, 23, 46, 24, 27, 160, 123, 120, 46, 23, 185, 328, 323, 138, 278, 51, 22, 71, 95, 518, 54, 23, 434, 258, 26, 22, 53, 47, 32, 288, 62, 75, 27, 150, 296, 124, 388, 150, 196, 147, 192, 127, 280, 20, 275, 21, 484, 26, 222, 32, 112, 397, 20, 21, 294, 223, 262, 245, 87, 75, 22, 174, 23, 154, 125, 51, 89, 66, 142, 187, 284, 283, 65, 147, 70, 183, 26, 333, 22, 130, 34, 75, 254, 44, 21, 201, 237, 190, 232, 193, 199, 58, 41, 50, 44, 42, 25, 233, 26, 24, 76, 43, 27, 102, 121, 25, 311, 20, 58, 33, 58, 45, 22, 75, 51, 66, 233, 274, 28, 30, 33, 375, 196, 162, 127, 53, 71, 22, 281, 23, 304, 52, 271, 31, 121, 111, 448, 149, 57, 54, 102, 172, 319, 22, 153, 68, 50, 44, 737, 342, 226, 27, 203, 28, 58, 51, 50, 25, 24, 493, 365, 20, 32, 36, 62, 97, 64, 44, 204, 101, 31, 55, 414, 65, 21, 62, 41, 44, 379, 145, 263, 33, 31, 51, 20, 143, 24, 24, 135, 36, 139, 38, 75, 540, 98, 206, 156, 236, 189, 217, 277, 183, 118, 68, 23, 33, 133, 53, 80, 101, 44, 143, 43, 57, 31, 263, 35, 327, 20, 83, 35, 113, 202, 60, 56, 26, 59, 139, 26, 189, 231, 154, 109, 57, 33, 55, 135, 47, 213, 129, 279, 149, 102, 225, 73, 37, 160, 251, 112, 242, 58, 87, 33, 30, 24, 21, 22, 194, 40, 21, 37, 73, 49, 23, 150, 30, 100, 306, 54, 68, 137, 53, 43, 45, 30, 274, 260, 80, 218, 163, 490, 81, 56, 63, 133, 135, 197, 31, 162, 59, 23, 155, 25, 40, 334, 84, 100, 114, 52, 44, 53, 20, 76, 101, 357, 72, 30, 34, 35, 149, 155, 81, 70, 22, 20, 20, 51, 46, 26, 36, 188, 24, 74, 47, 28, 62, 27, 24, 80, 166, 98, 225, 43, 48, 84, 360, 156, 25, 96, 20, 41, 25, 47, 89, 148, 29, 47, 27, 90, 236, 37, 163, 28, 75, 42, 27, 28, 39, 103, 43, 108, 216, 89, 110, 171, 228, 45, 141, 106, 32, 181, 27, 121, 108, 20, 118, 58, 135, 34, 20, 104, 67, 148, 109, 40, 318, 206, 42, 122, 38, 58, 297, 24, 311, 21, 22, 283, 147, 685, 24, 29, 71, 191, 224, 121, 23, 158, 166, 142, 245, 47, 46, 100, 46, 124, 29, 35, 41, 34, 77, 49, 28, 62, 38, 22, 399, 75, 86, 20, 71, 21, 24, 36, 115, 32, 40, 154, 157, 38, 29, 105, 127, 149, 21, 33, 31, 47, 90, 114, 29, 236, 105, 138, 86, 221, 162, 30, 44, 167, 269, 93, 39, 67, 30, 168, 42, 22, 85, 25, 24, 322, 26, 21, 38, 83, 20, 107, 64, 53, 24, 33, 148, 35, 20, 104, 26, 35, 27, 60, 67, 293, 108, 305, 33, 168, 73, 57, 34, 38, 109, 166, 357, 32, 41, 66, 21, 129, 109, 23, 175, 37, 64, 29, 64, 70, 33, 161, 224, 28, 105, 36, 65, 37, 55, 42, 232, 30, 39, 27, 117, 57, 249, 33, 231, 25, 47, 55, 39, 159, 358, 26, 239, 24, 28, 26, 75, 33, 332, 273, 140, 204, 23, 20, 26, 21, 20, 29, 35, 183, 25, 36, 21, 28, 21, 62, 25, 185, 20, 145, 115, 28, 104, 64, 106, 73, 25, 267, 54, 102, 50, 46, 93, 57, 197, 31, 27, 204, 81, 31, 405, 146, 150, 23, 51, 209, 49, 41, 217, 23, 26, 22, 21, 39, 71, 43, 165, 107, 294, 66, 20, 95, 208, 47, 269, 115, 71, 20, 34, 89, 21, 81, 134, 29, 368, 259, 137, 268, 43, 102, 240, 171, 20, 326, 119, 47, 226, 59, 245, 20, 362, 185, 30, 135, 45, 124, 49, 136, 47, 40, 41, 147, 74, 26, 60, 98, 53, 132, 23, 26, 317, 35, 103, 217, 26, 110, 127, 74, 82, 32, 20, 120, 32, 49, 63, 61, 241, 184, 174, 39, 142, 40, 108, 49, 107, 22, 79, 168], \"xbins\": {\"size\": 2, \"start\": 0}}],\n",
       "                        {\"bargap\": 0.2, \"template\": {\"data\": {\"bar\": [{\"error_x\": {\"color\": \"#2a3f5f\"}, \"error_y\": {\"color\": \"#2a3f5f\"}, \"marker\": {\"line\": {\"color\": \"#E5ECF6\", \"width\": 0.5}}, \"type\": \"bar\"}], \"barpolar\": [{\"marker\": {\"line\": {\"color\": \"#E5ECF6\", \"width\": 0.5}}, \"type\": \"barpolar\"}], \"carpet\": [{\"aaxis\": {\"endlinecolor\": \"#2a3f5f\", \"gridcolor\": \"white\", \"linecolor\": \"white\", \"minorgridcolor\": \"white\", \"startlinecolor\": \"#2a3f5f\"}, \"baxis\": {\"endlinecolor\": \"#2a3f5f\", \"gridcolor\": \"white\", \"linecolor\": \"white\", \"minorgridcolor\": \"white\", \"startlinecolor\": \"#2a3f5f\"}, \"type\": \"carpet\"}], \"choropleth\": [{\"colorbar\": {\"outlinewidth\": 0, \"ticks\": \"\"}, \"type\": \"choropleth\"}], \"contour\": [{\"colorbar\": {\"outlinewidth\": 0, \"ticks\": \"\"}, \"colorscale\": [[0.0, \"#0d0887\"], [0.1111111111111111, \"#46039f\"], [0.2222222222222222, \"#7201a8\"], [0.3333333333333333, \"#9c179e\"], [0.4444444444444444, \"#bd3786\"], [0.5555555555555556, \"#d8576b\"], [0.6666666666666666, \"#ed7953\"], [0.7777777777777778, \"#fb9f3a\"], [0.8888888888888888, \"#fdca26\"], [1.0, \"#f0f921\"]], \"type\": \"contour\"}], \"contourcarpet\": [{\"colorbar\": {\"outlinewidth\": 0, \"ticks\": \"\"}, \"type\": \"contourcarpet\"}], \"heatmap\": [{\"colorbar\": {\"outlinewidth\": 0, \"ticks\": \"\"}, \"colorscale\": [[0.0, \"#0d0887\"], [0.1111111111111111, \"#46039f\"], [0.2222222222222222, \"#7201a8\"], [0.3333333333333333, \"#9c179e\"], [0.4444444444444444, \"#bd3786\"], [0.5555555555555556, \"#d8576b\"], [0.6666666666666666, \"#ed7953\"], [0.7777777777777778, \"#fb9f3a\"], [0.8888888888888888, \"#fdca26\"], [1.0, \"#f0f921\"]], \"type\": \"heatmap\"}], \"heatmapgl\": [{\"colorbar\": {\"outlinewidth\": 0, \"ticks\": \"\"}, \"colorscale\": [[0.0, \"#0d0887\"], [0.1111111111111111, \"#46039f\"], [0.2222222222222222, \"#7201a8\"], [0.3333333333333333, \"#9c179e\"], [0.4444444444444444, \"#bd3786\"], [0.5555555555555556, \"#d8576b\"], [0.6666666666666666, \"#ed7953\"], [0.7777777777777778, \"#fb9f3a\"], [0.8888888888888888, \"#fdca26\"], [1.0, \"#f0f921\"]], \"type\": \"heatmapgl\"}], \"histogram\": [{\"marker\": {\"colorbar\": {\"outlinewidth\": 0, \"ticks\": \"\"}}, \"type\": \"histogram\"}], \"histogram2d\": [{\"colorbar\": {\"outlinewidth\": 0, \"ticks\": \"\"}, \"colorscale\": [[0.0, \"#0d0887\"], [0.1111111111111111, \"#46039f\"], [0.2222222222222222, \"#7201a8\"], [0.3333333333333333, \"#9c179e\"], [0.4444444444444444, \"#bd3786\"], [0.5555555555555556, \"#d8576b\"], [0.6666666666666666, \"#ed7953\"], [0.7777777777777778, \"#fb9f3a\"], [0.8888888888888888, \"#fdca26\"], [1.0, \"#f0f921\"]], \"type\": \"histogram2d\"}], \"histogram2dcontour\": [{\"colorbar\": {\"outlinewidth\": 0, \"ticks\": \"\"}, \"colorscale\": [[0.0, \"#0d0887\"], [0.1111111111111111, \"#46039f\"], [0.2222222222222222, \"#7201a8\"], [0.3333333333333333, \"#9c179e\"], [0.4444444444444444, \"#bd3786\"], [0.5555555555555556, \"#d8576b\"], [0.6666666666666666, \"#ed7953\"], [0.7777777777777778, \"#fb9f3a\"], [0.8888888888888888, \"#fdca26\"], [1.0, \"#f0f921\"]], \"type\": \"histogram2dcontour\"}], \"mesh3d\": [{\"colorbar\": {\"outlinewidth\": 0, \"ticks\": \"\"}, \"type\": \"mesh3d\"}], \"parcoords\": [{\"line\": {\"colorbar\": {\"outlinewidth\": 0, \"ticks\": \"\"}}, \"type\": \"parcoords\"}], \"pie\": [{\"automargin\": true, \"type\": \"pie\"}], \"scatter\": [{\"marker\": {\"colorbar\": {\"outlinewidth\": 0, \"ticks\": \"\"}}, \"type\": \"scatter\"}], \"scatter3d\": [{\"line\": {\"colorbar\": {\"outlinewidth\": 0, \"ticks\": \"\"}}, \"marker\": {\"colorbar\": {\"outlinewidth\": 0, \"ticks\": \"\"}}, \"type\": \"scatter3d\"}], \"scattercarpet\": [{\"marker\": {\"colorbar\": {\"outlinewidth\": 0, \"ticks\": \"\"}}, \"type\": \"scattercarpet\"}], \"scattergeo\": [{\"marker\": {\"colorbar\": {\"outlinewidth\": 0, \"ticks\": \"\"}}, \"type\": \"scattergeo\"}], \"scattergl\": [{\"marker\": {\"colorbar\": {\"outlinewidth\": 0, \"ticks\": \"\"}}, \"type\": \"scattergl\"}], \"scattermapbox\": [{\"marker\": {\"colorbar\": {\"outlinewidth\": 0, \"ticks\": \"\"}}, \"type\": \"scattermapbox\"}], \"scatterpolar\": [{\"marker\": {\"colorbar\": {\"outlinewidth\": 0, \"ticks\": \"\"}}, \"type\": \"scatterpolar\"}], \"scatterpolargl\": [{\"marker\": {\"colorbar\": {\"outlinewidth\": 0, \"ticks\": \"\"}}, \"type\": \"scatterpolargl\"}], \"scatterternary\": [{\"marker\": {\"colorbar\": {\"outlinewidth\": 0, \"ticks\": \"\"}}, \"type\": \"scatterternary\"}], \"surface\": [{\"colorbar\": {\"outlinewidth\": 0, \"ticks\": \"\"}, \"colorscale\": [[0.0, \"#0d0887\"], [0.1111111111111111, \"#46039f\"], [0.2222222222222222, \"#7201a8\"], [0.3333333333333333, \"#9c179e\"], [0.4444444444444444, \"#bd3786\"], [0.5555555555555556, \"#d8576b\"], [0.6666666666666666, \"#ed7953\"], [0.7777777777777778, \"#fb9f3a\"], [0.8888888888888888, \"#fdca26\"], [1.0, \"#f0f921\"]], \"type\": \"surface\"}], \"table\": [{\"cells\": {\"fill\": {\"color\": \"#EBF0F8\"}, \"line\": {\"color\": \"white\"}}, \"header\": {\"fill\": {\"color\": \"#C8D4E3\"}, \"line\": {\"color\": \"white\"}}, \"type\": \"table\"}]}, \"layout\": {\"annotationdefaults\": {\"arrowcolor\": \"#2a3f5f\", \"arrowhead\": 0, \"arrowwidth\": 1}, \"coloraxis\": {\"colorbar\": {\"outlinewidth\": 0, \"ticks\": \"\"}}, \"colorscale\": {\"diverging\": [[0, \"#8e0152\"], [0.1, \"#c51b7d\"], [0.2, \"#de77ae\"], [0.3, \"#f1b6da\"], [0.4, \"#fde0ef\"], [0.5, \"#f7f7f7\"], [0.6, \"#e6f5d0\"], [0.7, \"#b8e186\"], [0.8, \"#7fbc41\"], [0.9, \"#4d9221\"], [1, \"#276419\"]], \"sequential\": [[0.0, \"#0d0887\"], [0.1111111111111111, \"#46039f\"], [0.2222222222222222, \"#7201a8\"], [0.3333333333333333, \"#9c179e\"], [0.4444444444444444, \"#bd3786\"], [0.5555555555555556, \"#d8576b\"], [0.6666666666666666, \"#ed7953\"], [0.7777777777777778, \"#fb9f3a\"], [0.8888888888888888, \"#fdca26\"], [1.0, \"#f0f921\"]], \"sequentialminus\": [[0.0, \"#0d0887\"], [0.1111111111111111, \"#46039f\"], [0.2222222222222222, \"#7201a8\"], [0.3333333333333333, \"#9c179e\"], [0.4444444444444444, \"#bd3786\"], [0.5555555555555556, \"#d8576b\"], [0.6666666666666666, \"#ed7953\"], [0.7777777777777778, \"#fb9f3a\"], [0.8888888888888888, \"#fdca26\"], [1.0, \"#f0f921\"]]}, \"colorway\": [\"#636efa\", \"#EF553B\", \"#00cc96\", \"#ab63fa\", \"#FFA15A\", \"#19d3f3\", \"#FF6692\", \"#B6E880\", \"#FF97FF\", \"#FECB52\"], \"font\": {\"color\": \"#2a3f5f\"}, \"geo\": {\"bgcolor\": \"white\", \"lakecolor\": \"white\", \"landcolor\": \"#E5ECF6\", \"showlakes\": true, \"showland\": true, \"subunitcolor\": \"white\"}, \"hoverlabel\": {\"align\": \"left\"}, \"hovermode\": \"closest\", \"mapbox\": {\"style\": \"light\"}, \"paper_bgcolor\": \"white\", \"plot_bgcolor\": \"#E5ECF6\", \"polar\": {\"angularaxis\": {\"gridcolor\": \"white\", \"linecolor\": \"white\", \"ticks\": \"\"}, \"bgcolor\": \"#E5ECF6\", \"radialaxis\": {\"gridcolor\": \"white\", \"linecolor\": \"white\", \"ticks\": \"\"}}, \"scene\": {\"xaxis\": {\"backgroundcolor\": \"#E5ECF6\", \"gridcolor\": \"white\", \"gridwidth\": 2, \"linecolor\": \"white\", \"showbackground\": true, \"ticks\": \"\", \"zerolinecolor\": \"white\"}, \"yaxis\": {\"backgroundcolor\": \"#E5ECF6\", \"gridcolor\": \"white\", \"gridwidth\": 2, \"linecolor\": \"white\", \"showbackground\": true, \"ticks\": \"\", \"zerolinecolor\": \"white\"}, \"zaxis\": {\"backgroundcolor\": \"#E5ECF6\", \"gridcolor\": \"white\", \"gridwidth\": 2, \"linecolor\": \"white\", \"showbackground\": true, \"ticks\": \"\", \"zerolinecolor\": \"white\"}}, \"shapedefaults\": {\"line\": {\"color\": \"#2a3f5f\"}}, \"ternary\": {\"aaxis\": {\"gridcolor\": \"white\", \"linecolor\": \"white\", \"ticks\": \"\"}, \"baxis\": {\"gridcolor\": \"white\", \"linecolor\": \"white\", \"ticks\": \"\"}, \"bgcolor\": \"#E5ECF6\", \"caxis\": {\"gridcolor\": \"white\", \"linecolor\": \"white\", \"ticks\": \"\"}}, \"title\": {\"x\": 0.05}, \"xaxis\": {\"automargin\": true, \"gridcolor\": \"white\", \"linecolor\": \"white\", \"ticks\": \"\", \"title\": {\"standoff\": 15}, \"zerolinecolor\": \"white\", \"zerolinewidth\": 2}, \"yaxis\": {\"automargin\": true, \"gridcolor\": \"white\", \"linecolor\": \"white\", \"ticks\": \"\", \"title\": {\"standoff\": 15}, \"zerolinecolor\": \"white\", \"zerolinewidth\": 2}}}, \"title\": {\"text\": \"Distribution Of Number of Ratings Per User\"}, \"xaxis\": {\"title\": {\"text\": \"Ratings Per User\"}}, \"yaxis\": {\"title\": {\"text\": \"Count\"}}},\n",
       "                        {\"responsive\": true}\n",
       "                    ).then(function(){\n",
       "                            \n",
       "var gd = document.getElementById('551280fb-091c-4173-a803-b92de4d95b0d');\n",
       "var x = new MutationObserver(function (mutations, observer) {{\n",
       "        var display = window.getComputedStyle(gd).display;\n",
       "        if (!display || display === 'none') {{\n",
       "            console.log([gd, 'removed!']);\n",
       "            Plotly.purge(gd);\n",
       "            observer.disconnect();\n",
       "        }}\n",
       "}});\n",
       "\n",
       "// Listen for the removal of the full notebook cells\n",
       "var notebookContainer = gd.closest('#notebook-container');\n",
       "if (notebookContainer) {{\n",
       "    x.observe(notebookContainer, {childList: true});\n",
       "}}\n",
       "\n",
       "// Listen for the clearing of the current output cell\n",
       "var outputEl = gd.closest('.output');\n",
       "if (outputEl) {{\n",
       "    x.observe(outputEl, {childList: true});\n",
       "}}\n",
       "\n",
       "                        })\n",
       "                };\n",
       "                });\n",
       "            </script>\n",
       "        </div>"
      ]
     },
     "metadata": {},
     "output_type": "display_data"
    }
   ],
   "source": [
    "# Number of ratings per user\n",
    "data = df.groupby('userID')['rating'].count()\n",
    "\n",
    "# Create trace\n",
    "trace = go.Histogram(x = data.values,\n",
    "                     name = 'Ratings',\n",
    "                     xbins = dict(start = 0, size = 2))\n",
    "# Create layout\n",
    "layout = go.Layout(title = 'Distribution Of Number of Ratings Per User',\n",
    "                   xaxis = dict(title = 'Ratings Per User'),\n",
    "                   yaxis = dict(title = 'Count'),\n",
    "                   bargap = 0.2)\n",
    "\n",
    "# Create plot\n",
    "fig = go.Figure(data=[trace], layout=layout)\n",
    "iplot(fig)"
   ]
  },
  {
   "cell_type": "markdown",
   "metadata": {},
   "source": [
    "As expected similar distribution"
   ]
  },
  {
   "cell_type": "markdown",
   "metadata": {},
   "source": [
    "From this analysis, I do not see anything weird. I wasn't expected to see anything since, again, this is an experimental dataset, properly curated to avoid you any of the real-world problems. Nevertheless, it is always worthy to check, just in case. "
   ]
  },
  {
   "cell_type": "markdown",
   "metadata": {},
   "source": [
    "# Managing data with Surprise\n",
    "\n",
    "It's now time to convert our datasets to the format required by the Surprise library. This step is pretty straightforward since the library provides some handy methods to do it (check them in the library documentation in case you want to know more).\n",
    "\n",
    "To load a data set from the above pandas data frame, we will use the *load_from_df()* method, we will also need a Reader object, and the rating_scale parameter must be specified. The data frame must have three columns, corresponding to the user ids, the item ids, and the ratings in this order. Each row thus corresponds to a given rating."
   ]
  },
  {
   "cell_type": "code",
   "execution_count": 6,
   "metadata": {},
   "outputs": [],
   "source": [
    "from surprise import Dataset\n",
    "from surprise import Reader\n",
    "\n",
    "reader = Reader(rating_scale=(1, 5))\n",
    "data = Dataset.load_from_df(df[['userID', 'title', 'rating']], reader)"
   ]
  },
  {
   "cell_type": "markdown",
   "metadata": {},
   "source": [
    "# First Try: Neighbourhood-based Collaborative Filtering\n",
    "\n",
    "We are going to start by using one of the simplest recommendation methodologies (Neighbourhood-based CF). This technique is pretty simple and fast, but it provides accurate results for many scenarios.\n",
    "\n",
    "There are several Neighbourhood-based CF implementations in Surprise: https://surprise.readthedocs.io/en/stable/knn_inspired.html?highlight=neighbor. The choice of algorithm for the recommender function depends on the technique you want to use. For this first experiment, we are going to use the Baseline approach\n",
    "\n",
    "To specify the parameters of the execution, you simply have to configure the function by passing a dictionary as an argument to the recommender function. The dictionary should have the required keys, such as the following:\n",
    "\n",
    "- **name** contains the similarity metric to use. Options are cosine, msd, pearson, or pearson_baseline. The default is msd.\n",
    "- **user_based** is a boolean that tells whether the approach will be user-based or item-based. The default is True, which means the user-based approach will be used.\n",
    "- **min_support** is the minimum number of common items needed between users to consider them for similarity. For the item-based approach, this corresponds to the minimum number of common users for two items.\n",
    "    \n",
    "In particular, I will use the cosine distance as similarity metric for finding the neighbours, using the item-based approach"
   ]
  },
  {
   "cell_type": "code",
   "execution_count": 7,
   "metadata": {},
   "outputs": [],
   "source": [
    "from surprise import KNNBaseline\n",
    "\n",
    "# To use item-based cosine similarity\n",
    "sim_options = {\n",
    "    \"name\": \"cosine\",\n",
    "    \"user_based\": False,  # Compute  similarities between items\n",
    "}\n",
    "knn = KNNBaseline(sim_options=sim_options)"
   ]
  },
  {
   "cell_type": "markdown",
   "metadata": {},
   "source": [
    "Now that we have defined the algorithm configuration, we can actually test it. Again, Surprise provides some handy functions for it, in particular it includes a function to evaluate the algorithm via Cross Validation"
   ]
  },
  {
   "cell_type": "code",
   "execution_count": 8,
   "metadata": {},
   "outputs": [
    {
     "name": "stdout",
     "output_type": "stream",
     "text": [
      "Estimating biases using als...\n",
      "Computing the cosine similarity matrix...\n",
      "Done computing similarity matrix.\n",
      "Estimating biases using als...\n",
      "Computing the cosine similarity matrix...\n",
      "Done computing similarity matrix.\n",
      "Estimating biases using als...\n",
      "Computing the cosine similarity matrix...\n",
      "Done computing similarity matrix.\n",
      "Evaluating RMSE of algorithm KNNBaseline on 3 split(s).\n",
      "\n",
      "                  Fold 1  Fold 2  Fold 3  Mean    Std     \n",
      "RMSE (testset)    0.9460  0.9447  0.9509  0.9472  0.0027  \n",
      "Fit time          2.28    1.99    2.65    2.31    0.27    \n",
      "Test time         7.60    6.76    7.16    7.17    0.34    \n"
     ]
    }
   ],
   "source": [
    "from surprise.model_selection import cross_validate\n",
    "\n",
    "results = cross_validate(knn, data, measures=['RMSE'], cv=3, verbose=True)"
   ]
  },
  {
   "cell_type": "markdown",
   "metadata": {},
   "source": [
    "The RMSE is about 0.95 (i.e., the average error between the predicted and the actual ratings). \n",
    "\n",
    "In order to actually understand the value of these results, my recommendation is to always comapare them to a very simple baseline approach implementing whatever logic or business rule you consider valid. For example: randomly recommend from the 10 most common books. \n",
    "\n",
    "The Surprise library implements different baseline methodologies (https://surprise.readthedocs.io/en/stable/basic_algorithms.html#). I am going to use the *NormalPredictor* recommendation that predicts a random rating based on the distribution of the training set, which is assumed to be normal."
   ]
  },
  {
   "cell_type": "code",
   "execution_count": 9,
   "metadata": {},
   "outputs": [
    {
     "name": "stdout",
     "output_type": "stream",
     "text": [
      "Evaluating RMSE of algorithm NormalPredictor on 3 split(s).\n",
      "\n",
      "                  Fold 1  Fold 2  Fold 3  Mean    Std     \n",
      "RMSE (testset)    1.5188  1.5243  1.5269  1.5234  0.0034  \n",
      "Fit time          0.11    0.12    0.12    0.12    0.01    \n",
      "Test time         0.25    0.23    0.26    0.25    0.01    \n"
     ]
    },
    {
     "data": {
      "text/plain": [
       "{'test_rmse': array([1.51877873, 1.52434677, 1.52694327]),\n",
       " 'fit_time': (0.10603952407836914, 0.11796331405639648, 0.12400484085083008),\n",
       " 'test_time': (0.25350189208984375, 0.2265002727508545, 0.2579948902130127)}"
      ]
     },
     "execution_count": 9,
     "metadata": {},
     "output_type": "execute_result"
    }
   ],
   "source": [
    "from surprise import NormalPredictor\n",
    "\n",
    "cross_validate(NormalPredictor(), data, measures=['RMSE'], cv=3, verbose=True)"
   ]
  },
  {
   "cell_type": "markdown",
   "metadata": {},
   "source": [
    "RMSE is larger (as expected) what tells us that:\n",
    "- KNN is actually learning from the training data\n",
    "- 1.5 is the lower threshold for any recommender system in this dataset"
   ]
  },
  {
   "cell_type": "markdown",
   "metadata": {},
   "source": [
    "## Tuning the Algorithm Parameters\n",
    "\n",
    "As we explained, you can provide a dictionary with the desired configuration (i.e., similarity metric, user vs item based,...) to your recommendation algorithm. Ideally, you would like to test different configurations and select the one that best performs for your dataset and recommendation problem.\n",
    "\n",
    "To that end, Surprise provides a GridSearchCV class analogous to GridSearchCV from scikit-learn.\n",
    "With a dict of all parameters, GridSearchCV tries all the combinations of parameters and reports the best parameters for any accuracy measure"
   ]
  },
  {
   "cell_type": "markdown",
   "metadata": {},
   "source": [
    "For example, you can check which similarity metric works best for your data in memory-based approaches:"
   ]
  },
  {
   "cell_type": "code",
   "execution_count": 10,
   "metadata": {
    "scrolled": true
   },
   "outputs": [
    {
     "name": "stdout",
     "output_type": "stream",
     "text": [
      "Estimating biases using als...\n",
      "Computing the msd similarity matrix...\n",
      "Done computing similarity matrix.\n",
      "Estimating biases using als...\n",
      "Computing the msd similarity matrix...\n",
      "Done computing similarity matrix.\n",
      "Estimating biases using als...\n",
      "Computing the msd similarity matrix...\n",
      "Done computing similarity matrix.\n",
      "Estimating biases using als...\n",
      "Computing the msd similarity matrix...\n",
      "Done computing similarity matrix.\n",
      "Estimating biases using als...\n",
      "Computing the msd similarity matrix...\n",
      "Done computing similarity matrix.\n",
      "Estimating biases using als...\n",
      "Computing the msd similarity matrix...\n",
      "Done computing similarity matrix.\n",
      "Estimating biases using als...\n",
      "Computing the msd similarity matrix...\n",
      "Done computing similarity matrix.\n",
      "Estimating biases using als...\n",
      "Computing the msd similarity matrix...\n",
      "Done computing similarity matrix.\n",
      "Estimating biases using als...\n",
      "Computing the msd similarity matrix...\n",
      "Done computing similarity matrix.\n",
      "Estimating biases using als...\n",
      "Computing the msd similarity matrix...\n",
      "Done computing similarity matrix.\n",
      "Estimating biases using als...\n",
      "Computing the msd similarity matrix...\n",
      "Done computing similarity matrix.\n",
      "Estimating biases using als...\n",
      "Computing the msd similarity matrix...\n",
      "Done computing similarity matrix.\n",
      "Estimating biases using als...\n",
      "Computing the msd similarity matrix...\n",
      "Done computing similarity matrix.\n",
      "Estimating biases using als...\n",
      "Computing the msd similarity matrix...\n",
      "Done computing similarity matrix.\n",
      "Estimating biases using als...\n",
      "Computing the msd similarity matrix...\n",
      "Done computing similarity matrix.\n",
      "Estimating biases using als...\n",
      "Computing the msd similarity matrix...\n",
      "Done computing similarity matrix.\n",
      "Estimating biases using als...\n",
      "Computing the msd similarity matrix...\n",
      "Done computing similarity matrix.\n",
      "Estimating biases using als...\n",
      "Computing the msd similarity matrix...\n",
      "Done computing similarity matrix.\n",
      "Estimating biases using als...\n",
      "Computing the cosine similarity matrix...\n",
      "Done computing similarity matrix.\n",
      "Estimating biases using als...\n",
      "Computing the cosine similarity matrix...\n",
      "Done computing similarity matrix.\n",
      "Estimating biases using als...\n",
      "Computing the cosine similarity matrix...\n",
      "Done computing similarity matrix.\n",
      "Estimating biases using als...\n",
      "Computing the cosine similarity matrix...\n",
      "Done computing similarity matrix.\n",
      "Estimating biases using als...\n",
      "Computing the cosine similarity matrix...\n",
      "Done computing similarity matrix.\n",
      "Estimating biases using als...\n",
      "Computing the cosine similarity matrix...\n",
      "Done computing similarity matrix.\n",
      "Estimating biases using als...\n",
      "Computing the cosine similarity matrix...\n",
      "Done computing similarity matrix.\n",
      "Estimating biases using als...\n",
      "Computing the cosine similarity matrix...\n",
      "Done computing similarity matrix.\n",
      "Estimating biases using als...\n",
      "Computing the cosine similarity matrix...\n",
      "Done computing similarity matrix.\n",
      "Estimating biases using als...\n",
      "Computing the cosine similarity matrix...\n",
      "Done computing similarity matrix.\n",
      "Estimating biases using als...\n",
      "Computing the cosine similarity matrix...\n",
      "Done computing similarity matrix.\n",
      "Estimating biases using als...\n",
      "Computing the cosine similarity matrix...\n",
      "Done computing similarity matrix.\n",
      "Estimating biases using als...\n",
      "Computing the cosine similarity matrix...\n",
      "Done computing similarity matrix.\n",
      "Estimating biases using als...\n",
      "Computing the cosine similarity matrix...\n",
      "Done computing similarity matrix.\n",
      "Estimating biases using als...\n",
      "Computing the cosine similarity matrix...\n",
      "Done computing similarity matrix.\n",
      "Estimating biases using als...\n",
      "Computing the cosine similarity matrix...\n",
      "Done computing similarity matrix.\n",
      "Estimating biases using als...\n",
      "Computing the cosine similarity matrix...\n",
      "Done computing similarity matrix.\n",
      "Estimating biases using als...\n",
      "Computing the cosine similarity matrix...\n",
      "Done computing similarity matrix.\n",
      "0.9346774288123695\n",
      "{'sim_options': {'name': 'msd', 'min_support': 3, 'user_based': True}}\n"
     ]
    }
   ],
   "source": [
    "from surprise import KNNBaseline\n",
    "from surprise.model_selection import GridSearchCV\n",
    "\n",
    "sim_options = {\n",
    "    \"name\": [\"msd\", \"cosine\"],\n",
    "    \"min_support\": [3, 4, 5],\n",
    "    \"user_based\": [False, True],\n",
    "}\n",
    "\n",
    "param_grid = {\"sim_options\": sim_options}\n",
    "\n",
    "gs = GridSearchCV(KNNBaseline, param_grid, measures=[\"rmse\", \"mae\"], cv=3)\n",
    "gs.fit(data)\n",
    "\n",
    "print(gs.best_score[\"rmse\"])\n",
    "print(gs.best_params[\"rmse\"])"
   ]
  },
  {
   "cell_type": "markdown",
   "metadata": {},
   "source": [
    "The best configuration corresponds to a item-based configuration using Mean Square distance with a min support equals to 3, which is able to slightly reduce the RMSE to 0.942.\n"
   ]
  },
  {
   "cell_type": "markdown",
   "metadata": {},
   "source": [
    "# Second Try: Matrix Factorization\n",
    "\n",
    "Once we have understood the recommendation problem and how the Surprise library works, it's time to move to more interesting approaches, Matrix Factorization in particular.\n",
    "\n",
    "Surprise provides different implementations of well-known matrix factorization methodologies: https://surprise.readthedocs.io/en/stable/matrix_factorization.html\n",
    "\n",
    "For this exercise, we are going to use SVD++ which usually offers state of the art results for many recommendation tasks"
   ]
  },
  {
   "cell_type": "code",
   "execution_count": 11,
   "metadata": {},
   "outputs": [],
   "source": [
    "from surprise import SVDpp\n",
    "\n",
    "# We'll use the famous SVD algorithm.\n",
    "svd = SVDpp()\n",
    "\n",
    "results = cross_validate(svd, data, measures=['RMSE'], cv=3, verbose=False)"
   ]
  },
  {
   "cell_type": "markdown",
   "metadata": {},
   "source": [
    "As explained in class, matrix factorization methodologies usually offers a pretty good result and they are a good compromise between good performance and execution time, making them a great option for production systems."
   ]
  },
  {
   "cell_type": "markdown",
   "metadata": {},
   "source": [
    "# Third Try: Benchmarking\n",
    "\n",
    "In the following exercise we are going to experiment with different algorithms to check which one of them offers the best results.\n",
    "\n"
   ]
  },
  {
   "cell_type": "code",
   "execution_count": 12,
   "metadata": {},
   "outputs": [
    {
     "name": "stdout",
     "output_type": "stream",
     "text": [
      "Testing <surprise.prediction_algorithms.matrix_factorization.SVD object at 0x000001C7E3BB4608>\n",
      "Testing <surprise.prediction_algorithms.matrix_factorization.SVDpp object at 0x000001C7E8922548>\n",
      "Testing <surprise.prediction_algorithms.slope_one.SlopeOne object at 0x000001C7E89220C8>\n",
      "Testing <surprise.prediction_algorithms.matrix_factorization.NMF object at 0x000001C7E7052D48>\n",
      "Testing <surprise.prediction_algorithms.random_pred.NormalPredictor object at 0x000001C7E50C4E88>\n",
      "Testing <surprise.prediction_algorithms.knns.KNNBaseline object at 0x000001C7E89223C8>\n",
      "Estimating biases using als...\n",
      "Computing the msd similarity matrix...\n",
      "Done computing similarity matrix.\n",
      "Estimating biases using als...\n",
      "Computing the msd similarity matrix...\n",
      "Done computing similarity matrix.\n",
      "Estimating biases using als...\n",
      "Computing the msd similarity matrix...\n",
      "Done computing similarity matrix.\n",
      "Testing <surprise.prediction_algorithms.baseline_only.BaselineOnly object at 0x000001C7E8922A48>\n",
      "Estimating biases using als...\n",
      "Estimating biases using als...\n",
      "Estimating biases using als...\n",
      "Testing <surprise.prediction_algorithms.co_clustering.CoClustering object at 0x000001C7E89227C8>\n"
     ]
    },
    {
     "data": {
      "text/html": [
       "<div>\n",
       "<style scoped>\n",
       "    .dataframe tbody tr th:only-of-type {\n",
       "        vertical-align: middle;\n",
       "    }\n",
       "\n",
       "    .dataframe tbody tr th {\n",
       "        vertical-align: top;\n",
       "    }\n",
       "\n",
       "    .dataframe thead th {\n",
       "        text-align: right;\n",
       "    }\n",
       "</style>\n",
       "<table border=\"1\" class=\"dataframe\">\n",
       "  <thead>\n",
       "    <tr style=\"text-align: right;\">\n",
       "      <th></th>\n",
       "      <th>test_rmse</th>\n",
       "      <th>fit_time</th>\n",
       "      <th>test_time</th>\n",
       "    </tr>\n",
       "    <tr>\n",
       "      <th>Algorithm</th>\n",
       "      <th></th>\n",
       "      <th></th>\n",
       "      <th></th>\n",
       "    </tr>\n",
       "  </thead>\n",
       "  <tbody>\n",
       "    <tr>\n",
       "      <th>SVDpp</th>\n",
       "      <td>0.928070</td>\n",
       "      <td>141.543227</td>\n",
       "      <td>5.618849</td>\n",
       "    </tr>\n",
       "    <tr>\n",
       "      <th>KNNBaseline</th>\n",
       "      <td>0.934993</td>\n",
       "      <td>0.528169</td>\n",
       "      <td>6.393331</td>\n",
       "    </tr>\n",
       "    <tr>\n",
       "      <th>SVD</th>\n",
       "      <td>0.944073</td>\n",
       "      <td>4.917679</td>\n",
       "      <td>0.286320</td>\n",
       "    </tr>\n",
       "    <tr>\n",
       "      <th>BaselineOnly</th>\n",
       "      <td>0.947290</td>\n",
       "      <td>0.178017</td>\n",
       "      <td>0.188694</td>\n",
       "    </tr>\n",
       "    <tr>\n",
       "      <th>SlopeOne</th>\n",
       "      <td>0.949257</td>\n",
       "      <td>0.679832</td>\n",
       "      <td>4.530499</td>\n",
       "    </tr>\n",
       "    <tr>\n",
       "      <th>NMF</th>\n",
       "      <td>0.976964</td>\n",
       "      <td>4.522496</td>\n",
       "      <td>0.254670</td>\n",
       "    </tr>\n",
       "    <tr>\n",
       "      <th>CoClustering</th>\n",
       "      <td>0.977829</td>\n",
       "      <td>1.954331</td>\n",
       "      <td>0.211189</td>\n",
       "    </tr>\n",
       "    <tr>\n",
       "      <th>NormalPredictor</th>\n",
       "      <td>1.516653</td>\n",
       "      <td>0.111665</td>\n",
       "      <td>0.285518</td>\n",
       "    </tr>\n",
       "  </tbody>\n",
       "</table>\n",
       "</div>"
      ],
      "text/plain": [
       "                 test_rmse    fit_time  test_time\n",
       "Algorithm                                        \n",
       "SVDpp             0.928070  141.543227   5.618849\n",
       "KNNBaseline       0.934993    0.528169   6.393331\n",
       "SVD               0.944073    4.917679   0.286320\n",
       "BaselineOnly      0.947290    0.178017   0.188694\n",
       "SlopeOne          0.949257    0.679832   4.530499\n",
       "NMF               0.976964    4.522496   0.254670\n",
       "CoClustering      0.977829    1.954331   0.211189\n",
       "NormalPredictor   1.516653    0.111665   0.285518"
      ]
     },
     "execution_count": 12,
     "metadata": {},
     "output_type": "execute_result"
    }
   ],
   "source": [
    "from surprise import SVD\n",
    "from surprise import BaselineOnly\n",
    "from surprise import NMF\n",
    "from surprise import SlopeOne\n",
    "from surprise import CoClustering\n",
    "\n",
    "benchmark = []\n",
    "# Iterate over all algorithms\n",
    "for algorithm in [SVD(), SVDpp(), SlopeOne(), NMF(), NormalPredictor(), KNNBaseline(), BaselineOnly(), CoClustering()]:\n",
    "    \n",
    "    print(\"Testing {}\".format(algorithm))\n",
    "    # Perform cross validation\n",
    "    results = cross_validate(algorithm, data, measures=['RMSE'], cv=3, verbose=False)\n",
    "    \n",
    "    # Get results & append algorithm name\n",
    "    tmp = pd.DataFrame.from_dict(results).mean(axis=0)\n",
    "    tmp = tmp.append(pd.Series([str(algorithm).split(' ')[0].split('.')[-1]], index=['Algorithm']))\n",
    "    benchmark.append(tmp)\n",
    "    \n",
    "pd.DataFrame(benchmark).set_index('Algorithm').sort_values('test_rmse')    "
   ]
  },
  {
   "cell_type": "markdown",
   "metadata": {},
   "source": [
    "As expected the best results are offered by matrix factorization, particularly SVD++. However, if we take a look at the fitting time we see that it takes a lot of time to train (especially compared to SVD). If training time is a blocker for your situation (e.g., you have to perform online retraining anytime a new data point appears) you should consider the simpler version of SVD.\n",
    "\n",
    "Neighbourhood-based methods (KNN) also works pretty well for this dataset. My recommendation is that you always should try it. In spite of being such a simple approach, it is usually able to capture meaningful patterns. The downside of these approaches, as discussed in class is that they take a lot of time to offer predictions (since they perform most of the work during test time). If your recommendation scenario requires to offer recommendations in real time, perhaps KNN is not the most suitable approach.\n",
    "\n",
    "Surprisingly, the BaselineOnly and approach is offering very competitive results in spite of its simplicity. When no complex recommendation patterns are involved (e.g., people usually like blockbusters), baseline approaches based on generic statistics use to perform well."
   ]
  },
  {
   "cell_type": "markdown",
   "metadata": {},
   "source": [
    "# Interpretation\n",
    "\n",
    "In this final section I would like to provide you with some examples about how to interpret the results and execution of your recommendation system.\n",
    "\n",
    "This interpretation is very useful to understand the operation of the recommendation system and to be able to improve their results, as well as to explain the recommendation to relevant stakeholders.\n",
    "\n",
    "The code is a little bit tricky and it will be different if you use a different library (you should research about how to replicate this analysis with your preferred library), so don't get discouraged if you get lost in the Python Code and focus on iterpreting and understanding the results and to capture the idea."
   ]
  },
  {
   "cell_type": "markdown",
   "metadata": {},
   "source": [
    "## Get Neigbours\n",
    "\n",
    "If you are using a neighbourd based methodology you can inspect the neighbourhoods in which the recommendations are generated. For example, you can take an item (or user) and analyze their neighbourhood to check if it makes sense (i.e., if it includes items or users similar to the one that you are analyzing).\n",
    "\n",
    "The following code gets the 10 closest neighbours to a given movie."
   ]
  },
  {
   "cell_type": "code",
   "execution_count": 13,
   "metadata": {},
   "outputs": [
    {
     "name": "stdout",
     "output_type": "stream",
     "text": [
      "Estimating biases using als...\n",
      "Computing the pearson_baseline similarity matrix...\n",
      "Done computing similarity matrix.\n",
      "\n",
      "The 10 nearest neighbors of Toy Story (1995) are:\n",
      "\n",
      "\t Beauty and the Beast (1991)\n",
      "\t Raiders of the Lost Ark (1981)\n",
      "\t That Thing You Do! (1996)\n",
      "\t Lion King, The (1994)\n",
      "\t Craft, The (1996)\n",
      "\t Liar Liar (1997)\n",
      "\t Aladdin (1992)\n",
      "\t Cool Hand Luke (1967)\n",
      "\t Winnie the Pooh and the Blustery Day (1968)\n",
      "\t Indiana Jones and the Last Crusade (1989)\n"
     ]
    }
   ],
   "source": [
    "# Execute KNN\n",
    "sim_options = {'name': 'pearson_baseline', 'user_based': False}\n",
    "knn = KNNBaseline(sim_options=sim_options)\n",
    "knn.fit(data.build_full_trainset())\n",
    "\n",
    "# Target movie to analyze its neighbourhood\n",
    "movie_name = 'Toy Story (1995)'\n",
    "\n",
    "# Get the closes neighbourds\n",
    "neighbors = knn.get_neighbors(knn.trainset.to_inner_iid(movie_name), k=10)\n",
    "# Translate the internal ids used in the algorithm to the movie names\n",
    "neighbors = (knn.trainset.to_raw_iid(inner_id) for inner_id in neighbors)\n",
    "\n",
    "print()\n",
    "print('The 10 nearest neighbors of {} are:\\n'.format(movie_name))\n",
    "for movie in neighbors:\n",
    "    print(\"\\t\",movie)"
   ]
  },
  {
   "cell_type": "markdown",
   "metadata": {},
   "source": [
    "Well, it seems that the Toy Story neighbourhood makes sense: it mostly includes other children's movies or movies that a kid/teenager might like."
   ]
  },
  {
   "cell_type": "markdown",
   "metadata": {},
   "source": [
    "## Check Factorized Matrices\n",
    "\n",
    "If you are using a matrix factorization based algorithm, such as SVD, you can actually analyze the resulting matrices to understand what the algorithm is doing.\n",
    "\n",
    "In particular, you can analyze 2 things:\n",
    "- **Bias**: Bias terms try to consider the tendencies in the ratings to be biased to a particular aspect. For example, they are movies which score is consistently lower; therefore, no matter how much the algorithm thinks that someone could like the movie, it should consider that we are talking a really bad movie. In the same way, if a user is pretty exigent and usually rates all the movies with very low scores (even The Godfather), we should consider it when we are trying to predict how much is going to like the movie\n",
    "- **Factors**: These are the underlying factors that are driving the ratings (e.g., I like blockbusters, I like children movies...) that we expect the matrix factorization algorithm to learn from the rating matrix."
   ]
  },
  {
   "cell_type": "markdown",
   "metadata": {},
   "source": [
    "### Analyze BIAS\n",
    "\n",
    "Let's start analyzing the bias. Luckily for us, Surprise provides a \"rather simple\" way of accessing the bias terms"
   ]
  },
  {
   "cell_type": "markdown",
   "metadata": {},
   "source": [
    "#### Item Bias\n",
    "\n",
    "First we will analyze the bias related to the items to understand if there is any bias in their ratings. Ideally, it should be. We all know that there are movies that are \"indisputably\" good or bad, which should be reflected in the ratings (and consequently be captured by the matrix factorization method).\n",
    "\n",
    "Let's see. What I will do is to plot the movies with a large negative (worst movies ever) and positive (best movies ever) bias."
   ]
  },
  {
   "cell_type": "code",
   "execution_count": 18,
   "metadata": {},
   "outputs": [
    {
     "name": "stdout",
     "output_type": "stream",
     "text": [
      "Worst movies ever:\n"
     ]
    },
    {
     "data": {
      "text/plain": [
       "[(-1.487444897341633, 'Dumbo (1941)'),\n",
       " (-1.4027757779187595, 'Beverly Hillbillies, The (1993)'),\n",
       " (-1.2743400186051685, 'Lightning Jack (1994)'),\n",
       " (-1.2033035900778157, 'Treasure of the Sierra Madre, The (1948)'),\n",
       " (-1.195564653624382, 'Barbarella (1968)'),\n",
       " (-1.1882911538562877, 'Ghost and Mrs. Muir, The (1947)'),\n",
       " (-1.1741534705285284, \"City Slickers II: The Legend of Curly's Gold (1994)\"),\n",
       " (-1.1680560366223394, 'How to Make an American Quilt (1995)'),\n",
       " (-1.1615205695897657, 'Mad Love (1995)'),\n",
       " (-1.1574289305227874, 'Apocalypse Now (1979)'),\n",
       " (-1.1233273182221486, 'Roommates (1995)'),\n",
       " (-1.1217279221265204, 'Primal Fear (1996)'),\n",
       " (-1.096857787537745, 'Tango Lesson, The (1997)'),\n",
       " (-1.089495779755183, 'Virtuosity (1995)'),\n",
       " (-1.0778390354641196, 'Original Gangstas (1996)')]"
      ]
     },
     "execution_count": 18,
     "metadata": {},
     "output_type": "execute_result"
    }
   ],
   "source": [
    "movie_bias = [(b, data.build_full_trainset().to_raw_iid(i)) for i, b in enumerate(svd.bi)]\n",
    "print(\"Worst movies ever:\")\n",
    "sorted(movie_bias, key=lambda x: x[0])[:15]"
   ]
  },
  {
   "cell_type": "code",
   "execution_count": 19,
   "metadata": {},
   "outputs": [
    {
     "name": "stdout",
     "output_type": "stream",
     "text": [
      "Worst movies ever:\n"
     ]
    },
    {
     "data": {
      "text/plain": [
       "[(1.0211527685183819, 'Outbreak (1995)'),\n",
       " (0.9442002782703149, 'Interview with the Vampire (1994)'),\n",
       " (0.9421700253711203, 'Crossing Guard, The (1995)'),\n",
       " (0.8723334067200819, 'Smoke (1995)'),\n",
       " (0.8692777893664189, \"Gridlock'd (1997)\"),\n",
       " (0.8558686551457666, 'Escape to Witch Mountain (1975)'),\n",
       " (0.8462235249718529, 'Citizen Kane (1941)'),\n",
       " (0.8456512758611057, 'Mrs. Doubtfire (1993)'),\n",
       " (0.8400165682248344, 'Sabrina (1995)'),\n",
       " (0.8353161516417555, 'Akira (1988)'),\n",
       " (0.8350900924576887, 'Stalingrad (1993)'),\n",
       " (0.8039597952772438, 'Dracula: Dead and Loving It (1995)'),\n",
       " (0.7962061588378314, 'Pallbearer, The (1996)'),\n",
       " (0.7895264412136918, 'Hear My Song (1991)'),\n",
       " (0.7796911469477453, 'Stag (1997)')]"
      ]
     },
     "execution_count": 19,
     "metadata": {},
     "output_type": "execute_result"
    }
   ],
   "source": [
    "print(\"Worst movies ever:\")\n",
    "sorted(movie_bias, key=lambda x: -x[0])[:15]"
   ]
  },
  {
   "cell_type": "markdown",
   "metadata": {},
   "source": [
    "Since the topic could be a little controversial, I will let you decide how accurate are the biases."
   ]
  },
  {
   "cell_type": "markdown",
   "metadata": {},
   "source": [
    "#### User Bias\n",
    "\n",
    "We can perform the same bias analysis over the users. The idea is the following: there are people that consistently rate movies very well or very badly, no matter the movie quality.\n",
    "\n",
    "Let's see if that happens in our dataset and if the algorithm is able to capture it"
   ]
  },
  {
   "cell_type": "markdown",
   "metadata": {},
   "source": [
    "The following code prints the user with the most negative bias"
   ]
  },
  {
   "cell_type": "code",
   "execution_count": 20,
   "metadata": {},
   "outputs": [
    {
     "data": {
      "text/plain": [
       "(-1.7877768749264766, 102)"
      ]
     },
     "execution_count": 20,
     "metadata": {},
     "output_type": "execute_result"
    }
   ],
   "source": [
    "user_bias = [(b, data.build_full_trainset().to_raw_uid(i)) for i, b in enumerate(svd.bu)]\n",
    "sorted(user_bias, key=lambda x: x[0])[0]"
   ]
  },
  {
   "cell_type": "markdown",
   "metadata": {},
   "source": [
    "If we check their scores, we see that they are pretty bad."
   ]
  },
  {
   "cell_type": "code",
   "execution_count": 21,
   "metadata": {
    "scrolled": true
   },
   "outputs": [
    {
     "data": {
      "text/html": [
       "<div>\n",
       "<style scoped>\n",
       "    .dataframe tbody tr th:only-of-type {\n",
       "        vertical-align: middle;\n",
       "    }\n",
       "\n",
       "    .dataframe tbody tr th {\n",
       "        vertical-align: top;\n",
       "    }\n",
       "\n",
       "    .dataframe thead th {\n",
       "        text-align: right;\n",
       "    }\n",
       "</style>\n",
       "<table border=\"1\" class=\"dataframe\">\n",
       "  <thead>\n",
       "    <tr style=\"text-align: right;\">\n",
       "      <th></th>\n",
       "      <th>userID</th>\n",
       "      <th>title</th>\n",
       "      <th>rating</th>\n",
       "    </tr>\n",
       "  </thead>\n",
       "  <tbody>\n",
       "    <tr>\n",
       "      <th>44</th>\n",
       "      <td>181</td>\n",
       "      <td>Kolya (1996)</td>\n",
       "      <td>1</td>\n",
       "    </tr>\n",
       "    <tr>\n",
       "      <th>127</th>\n",
       "      <td>181</td>\n",
       "      <td>L.A. Confidential (1997)</td>\n",
       "      <td>2</td>\n",
       "    </tr>\n",
       "    <tr>\n",
       "      <th>2067</th>\n",
       "      <td>181</td>\n",
       "      <td>Star Trek: First Contact (1996)</td>\n",
       "      <td>4</td>\n",
       "    </tr>\n",
       "    <tr>\n",
       "      <th>2607</th>\n",
       "      <td>181</td>\n",
       "      <td>Sabrina (1995)</td>\n",
       "      <td>4</td>\n",
       "    </tr>\n",
       "    <tr>\n",
       "      <th>3187</th>\n",
       "      <td>181</td>\n",
       "      <td>Twister (1996)</td>\n",
       "      <td>2</td>\n",
       "    </tr>\n",
       "    <tr>\n",
       "      <th>...</th>\n",
       "      <td>...</td>\n",
       "      <td>...</td>\n",
       "      <td>...</td>\n",
       "    </tr>\n",
       "    <tr>\n",
       "      <th>99942</th>\n",
       "      <td>181</td>\n",
       "      <td>Ed's Next Move (1996)</td>\n",
       "      <td>1</td>\n",
       "    </tr>\n",
       "    <tr>\n",
       "      <th>99966</th>\n",
       "      <td>181</td>\n",
       "      <td>JLG/JLG - autoportrait de décembre (1994)</td>\n",
       "      <td>1</td>\n",
       "    </tr>\n",
       "    <tr>\n",
       "      <th>99979</th>\n",
       "      <td>181</td>\n",
       "      <td>August (1996)</td>\n",
       "      <td>1</td>\n",
       "    </tr>\n",
       "    <tr>\n",
       "      <th>99981</th>\n",
       "      <td>181</td>\n",
       "      <td>Hedd Wyn (1992)</td>\n",
       "      <td>1</td>\n",
       "    </tr>\n",
       "    <tr>\n",
       "      <th>99982</th>\n",
       "      <td>181</td>\n",
       "      <td>Shadow of Angels (Schatten der Engel) (1976)</td>\n",
       "      <td>1</td>\n",
       "    </tr>\n",
       "  </tbody>\n",
       "</table>\n",
       "<p>435 rows × 3 columns</p>\n",
       "</div>"
      ],
      "text/plain": [
       "       userID                                         title  rating\n",
       "44        181                                  Kolya (1996)       1\n",
       "127       181                      L.A. Confidential (1997)       2\n",
       "2067      181               Star Trek: First Contact (1996)       4\n",
       "2607      181                                Sabrina (1995)       4\n",
       "3187      181                                Twister (1996)       2\n",
       "...       ...                                           ...     ...\n",
       "99942     181                         Ed's Next Move (1996)       1\n",
       "99966     181     JLG/JLG - autoportrait de décembre (1994)       1\n",
       "99979     181                                 August (1996)       1\n",
       "99981     181                               Hedd Wyn (1992)       1\n",
       "99982     181  Shadow of Angels (Schatten der Engel) (1976)       1\n",
       "\n",
       "[435 rows x 3 columns]"
      ]
     },
     "execution_count": 21,
     "metadata": {},
     "output_type": "execute_result"
    }
   ],
   "source": [
    "df[df.userID == 181]"
   ]
  },
  {
   "cell_type": "markdown",
   "metadata": {},
   "source": [
    "In contrast, if we analyze the user with the most positive bias, we will see that they scores are pretty high."
   ]
  },
  {
   "cell_type": "code",
   "execution_count": 22,
   "metadata": {},
   "outputs": [
    {
     "data": {
      "text/plain": [
       "(1.2532925260988244, 583)"
      ]
     },
     "execution_count": 22,
     "metadata": {},
     "output_type": "execute_result"
    }
   ],
   "source": [
    "sorted(user_bias, key=lambda x: x[0])[-1]"
   ]
  },
  {
   "cell_type": "code",
   "execution_count": 23,
   "metadata": {
    "scrolled": true
   },
   "outputs": [
    {
     "data": {
      "text/html": [
       "<div>\n",
       "<style scoped>\n",
       "    .dataframe tbody tr th:only-of-type {\n",
       "        vertical-align: middle;\n",
       "    }\n",
       "\n",
       "    .dataframe tbody tr th {\n",
       "        vertical-align: top;\n",
       "    }\n",
       "\n",
       "    .dataframe thead th {\n",
       "        text-align: right;\n",
       "    }\n",
       "</style>\n",
       "<table border=\"1\" class=\"dataframe\">\n",
       "  <thead>\n",
       "    <tr style=\"text-align: right;\">\n",
       "      <th></th>\n",
       "      <th>userID</th>\n",
       "      <th>title</th>\n",
       "      <th>rating</th>\n",
       "    </tr>\n",
       "  </thead>\n",
       "  <tbody>\n",
       "    <tr>\n",
       "      <th>363</th>\n",
       "      <td>688</td>\n",
       "      <td>L.A. Confidential (1997)</td>\n",
       "      <td>5</td>\n",
       "    </tr>\n",
       "    <tr>\n",
       "      <th>6314</th>\n",
       "      <td>688</td>\n",
       "      <td>Fly Away Home (1996)</td>\n",
       "      <td>5</td>\n",
       "    </tr>\n",
       "    <tr>\n",
       "      <th>7134</th>\n",
       "      <td>688</td>\n",
       "      <td>Kiss the Girls (1997)</td>\n",
       "      <td>5</td>\n",
       "    </tr>\n",
       "    <tr>\n",
       "      <th>10059</th>\n",
       "      <td>688</td>\n",
       "      <td>Scream (1996)</td>\n",
       "      <td>5</td>\n",
       "    </tr>\n",
       "    <tr>\n",
       "      <th>13539</th>\n",
       "      <td>688</td>\n",
       "      <td>Bean (1997)</td>\n",
       "      <td>5</td>\n",
       "    </tr>\n",
       "    <tr>\n",
       "      <th>17900</th>\n",
       "      <td>688</td>\n",
       "      <td>Devil's Advocate, The (1997)</td>\n",
       "      <td>4</td>\n",
       "    </tr>\n",
       "    <tr>\n",
       "      <th>32075</th>\n",
       "      <td>688</td>\n",
       "      <td>Mad City (1997)</td>\n",
       "      <td>5</td>\n",
       "    </tr>\n",
       "    <tr>\n",
       "      <th>37413</th>\n",
       "      <td>688</td>\n",
       "      <td>MatchMaker, The (1997)</td>\n",
       "      <td>5</td>\n",
       "    </tr>\n",
       "    <tr>\n",
       "      <th>40171</th>\n",
       "      <td>688</td>\n",
       "      <td>Peacemaker, The (1997)</td>\n",
       "      <td>5</td>\n",
       "    </tr>\n",
       "    <tr>\n",
       "      <th>40839</th>\n",
       "      <td>688</td>\n",
       "      <td>Volcano (1997)</td>\n",
       "      <td>5</td>\n",
       "    </tr>\n",
       "    <tr>\n",
       "      <th>48559</th>\n",
       "      <td>688</td>\n",
       "      <td>George of the Jungle (1997)</td>\n",
       "      <td>5</td>\n",
       "    </tr>\n",
       "    <tr>\n",
       "      <th>63451</th>\n",
       "      <td>688</td>\n",
       "      <td>Excess Baggage (1997)</td>\n",
       "      <td>5</td>\n",
       "    </tr>\n",
       "    <tr>\n",
       "      <th>72611</th>\n",
       "      <td>688</td>\n",
       "      <td>I Know What You Did Last Summer (1997)</td>\n",
       "      <td>5</td>\n",
       "    </tr>\n",
       "    <tr>\n",
       "      <th>77518</th>\n",
       "      <td>688</td>\n",
       "      <td>Postman, The (1997)</td>\n",
       "      <td>5</td>\n",
       "    </tr>\n",
       "    <tr>\n",
       "      <th>78837</th>\n",
       "      <td>688</td>\n",
       "      <td>Deceiver (1997)</td>\n",
       "      <td>5</td>\n",
       "    </tr>\n",
       "    <tr>\n",
       "      <th>82894</th>\n",
       "      <td>688</td>\n",
       "      <td>Red Corner (1997)</td>\n",
       "      <td>5</td>\n",
       "    </tr>\n",
       "    <tr>\n",
       "      <th>87104</th>\n",
       "      <td>688</td>\n",
       "      <td>G.I. Jane (1997)</td>\n",
       "      <td>5</td>\n",
       "    </tr>\n",
       "    <tr>\n",
       "      <th>89034</th>\n",
       "      <td>688</td>\n",
       "      <td>Desperate Measures (1998)</td>\n",
       "      <td>5</td>\n",
       "    </tr>\n",
       "    <tr>\n",
       "      <th>91140</th>\n",
       "      <td>688</td>\n",
       "      <td>Playing God (1997)</td>\n",
       "      <td>2</td>\n",
       "    </tr>\n",
       "    <tr>\n",
       "      <th>91837</th>\n",
       "      <td>688</td>\n",
       "      <td>Critical Care (1997)</td>\n",
       "      <td>5</td>\n",
       "    </tr>\n",
       "    <tr>\n",
       "      <th>92410</th>\n",
       "      <td>688</td>\n",
       "      <td>Assignment, The (1997)</td>\n",
       "      <td>5</td>\n",
       "    </tr>\n",
       "    <tr>\n",
       "      <th>95910</th>\n",
       "      <td>688</td>\n",
       "      <td>Truman Show, The (1998)</td>\n",
       "      <td>5</td>\n",
       "    </tr>\n",
       "    <tr>\n",
       "      <th>96634</th>\n",
       "      <td>688</td>\n",
       "      <td>Hard Rain (1998)</td>\n",
       "      <td>5</td>\n",
       "    </tr>\n",
       "    <tr>\n",
       "      <th>99739</th>\n",
       "      <td>688</td>\n",
       "      <td>Chairman of the Board (1998)</td>\n",
       "      <td>5</td>\n",
       "    </tr>\n",
       "  </tbody>\n",
       "</table>\n",
       "</div>"
      ],
      "text/plain": [
       "       userID                                   title  rating\n",
       "363       688                L.A. Confidential (1997)       5\n",
       "6314      688                    Fly Away Home (1996)       5\n",
       "7134      688                   Kiss the Girls (1997)       5\n",
       "10059     688                           Scream (1996)       5\n",
       "13539     688                             Bean (1997)       5\n",
       "17900     688            Devil's Advocate, The (1997)       4\n",
       "32075     688                         Mad City (1997)       5\n",
       "37413     688                  MatchMaker, The (1997)       5\n",
       "40171     688                  Peacemaker, The (1997)       5\n",
       "40839     688                          Volcano (1997)       5\n",
       "48559     688             George of the Jungle (1997)       5\n",
       "63451     688                   Excess Baggage (1997)       5\n",
       "72611     688  I Know What You Did Last Summer (1997)       5\n",
       "77518     688                     Postman, The (1997)       5\n",
       "78837     688                         Deceiver (1997)       5\n",
       "82894     688                       Red Corner (1997)       5\n",
       "87104     688                        G.I. Jane (1997)       5\n",
       "89034     688               Desperate Measures (1998)       5\n",
       "91140     688                      Playing God (1997)       2\n",
       "91837     688                    Critical Care (1997)       5\n",
       "92410     688                  Assignment, The (1997)       5\n",
       "95910     688                 Truman Show, The (1998)       5\n",
       "96634     688                        Hard Rain (1998)       5\n",
       "99739     688            Chairman of the Board (1998)       5"
      ]
     },
     "execution_count": 23,
     "metadata": {},
     "output_type": "execute_result"
    }
   ],
   "source": [
    "df[df.userID == 688]"
   ]
  },
  {
   "cell_type": "markdown",
   "metadata": {},
   "source": [
    "### Analyze Factors\n",
    "\n",
    "Finally we can analyze the factors. This step is way more complex. Factors are not easily interpretable even for a small dataset an a small number of them (i.e., by default the SVD implementation in Surprise uses 20 factors).\n",
    "\n",
    "You can try to plot the factor matrix and review it cell by cell trying to find some correlation and how it is related to the users and the movies, but I strongly recommend you not to do it."
   ]
  },
  {
   "cell_type": "code",
   "execution_count": 24,
   "metadata": {},
   "outputs": [
    {
     "data": {
      "text/plain": [
       "array([[-2.87590292e-01, -6.48678098e-01,  2.85514522e-01, ...,\n",
       "         3.29709156e-01, -9.14400134e-02, -1.73895244e-01],\n",
       "       [-3.41813832e-01, -9.24127677e-02, -1.08097623e-01, ...,\n",
       "         2.23559299e-01,  9.75087353e-02, -7.79958648e-02],\n",
       "       [ 5.02009340e-04, -3.63289091e-01, -8.87284399e-02, ...,\n",
       "         1.25435826e-01, -2.64966283e-02, -1.15664441e-01],\n",
       "       ...,\n",
       "       [ 1.91885411e-01, -1.26584992e-01,  1.57517506e-01, ...,\n",
       "        -1.32503743e-01, -1.03553911e-02, -3.74030719e-02],\n",
       "       [ 2.22918884e-01,  8.66114740e-02, -6.62251062e-02, ...,\n",
       "        -4.79792985e-02, -1.04814201e-03,  9.20735458e-02],\n",
       "       [ 5.21467084e-02,  4.21591254e-02, -2.35594031e-02, ...,\n",
       "        -8.87121368e-02, -2.53910454e-02,  6.29776063e-02]])"
      ]
     },
     "execution_count": 24,
     "metadata": {},
     "output_type": "execute_result"
    }
   ],
   "source": [
    "svd.qi"
   ]
  },
  {
   "cell_type": "markdown",
   "metadata": {},
   "source": [
    "What we can do is to try to reduce the factors, focus on the most important ones and try to understand if they make any sense.\n",
    "\n",
    "A common way of doing it is to apply PCA to reduce the dimensionality of the factor matrix to a number that we can analyze and to check if there is any pattern that make sense for us. If we discover these patterns is because the original factorized matrix was able to capture meaningfull factors that can be exploited for recommendation."
   ]
  },
  {
   "cell_type": "markdown",
   "metadata": {},
   "source": [
    "I am going to apply PCA to find the 3 principal components of the factorized matrix"
   ]
  },
  {
   "cell_type": "code",
   "execution_count": 25,
   "metadata": {},
   "outputs": [],
   "source": [
    "\n",
    "from sklearn.preprocessing import StandardScaler\n",
    "x = StandardScaler().fit_transform(svd.qi)\n",
    "\n",
    "from sklearn.decomposition import PCA\n",
    "pca = PCA(n_components=3)\n",
    "principalComponents = pca.fit_transform(x)\n",
    "principalDf = pd.DataFrame(data = principalComponents, columns = ['principal component 1', 'principal component 2', 'principal component 3'])"
   ]
  },
  {
   "cell_type": "markdown",
   "metadata": {},
   "source": [
    "Now we can plot the movies related to each one of the Principal Components and check if there is any pattern that makes sense for us"
   ]
  },
  {
   "cell_type": "code",
   "execution_count": 26,
   "metadata": {},
   "outputs": [
    {
     "name": "stdout",
     "output_type": "stream",
     "text": [
      "Movie: Batman Forever (1995) with PC value = 7.127224045811679\n",
      "Movie: As Good As It Gets (1997) with PC value = 6.497862692475638\n",
      "Movie: Casablanca (1942) with PC value = 5.921647194569985\n",
      "Movie: Crying Game, The (1992) with PC value = 5.858523876430597\n",
      "Movie: Mediterraneo (1991) with PC value = 5.540002135299654\n",
      "Movie: Independence Day (ID4) (1996) with PC value = 5.289315644521826\n",
      "Movie: Boot, Das (1981) with PC value = 5.11961225018138\n",
      "Movie: Body Snatcher, The (1945) with PC value = 4.958080781221413\n",
      "Movie: Hackers (1995) with PC value = 4.80916041424479\n",
      "Movie: Things to Do in Denver when You're Dead (1995) with PC value = 4.7640427894898165\n"
     ]
    }
   ],
   "source": [
    "for row in principalDf.sort_values(by='principal component 1', ascending=False).head(10).iterrows():\n",
    "    print(\"Movie: {} with PC value = {}\".format(trainset.to_raw_iid(row[0]), row[1][0]))\n",
    "    "
   ]
  },
  {
   "cell_type": "code",
   "execution_count": 27,
   "metadata": {},
   "outputs": [
    {
     "name": "stdout",
     "output_type": "stream",
     "text": [
      "Movie: Chungking Express (1994) with PC value = 6.361514094499045\n",
      "Movie: Sling Blade (1996) with PC value = 6.242174734922096\n",
      "Movie: Terminator, The (1984) with PC value = 6.125925732838591\n",
      "Movie: Welcome to the Dollhouse (1995) with PC value = 5.750174436661971\n",
      "Movie: Heavy Metal (1981) with PC value = 5.543653754816361\n",
      "Movie: Raging Bull (1980) with PC value = 5.527394549671999\n",
      "Movie: Contact (1997) with PC value = 5.320291230338105\n",
      "Movie: Picnic (1955) with PC value = 5.304375815989779\n",
      "Movie: Close Shave, A (1995) with PC value = 5.264635500792049\n",
      "Movie: Renaissance Man (1994) with PC value = 5.119014002553325\n"
     ]
    }
   ],
   "source": [
    "for row in principalDf.sort_values(by='principal component 2', ascending=False).head(10).iterrows():\n",
    "    print(\"Movie: {} with PC value = {}\".format(trainset.to_raw_iid(row[0]), row[1][1]))"
   ]
  },
  {
   "cell_type": "code",
   "execution_count": 28,
   "metadata": {},
   "outputs": [
    {
     "name": "stdout",
     "output_type": "stream",
     "text": [
      "Movie: Mediterraneo (1991) with PC value = 5.435716592608913\n",
      "Movie: Oliver & Company (1988) with PC value = 5.40233991598455\n",
      "Movie: Hollow Reed (1996) with PC value = 5.246155279790664\n",
      "Movie: Lightning Jack (1994) with PC value = 4.639498443981389\n",
      "Movie: Batman Forever (1995) with PC value = 4.4666575993675375\n",
      "Movie: Seven Years in Tibet (1997) with PC value = 4.245977905285722\n",
      "Movie: Sex, Lies, and Videotape (1989) with PC value = 4.186276785490852\n",
      "Movie: Jane Eyre (1996) with PC value = 4.098436543448361\n",
      "Movie: Charade (1963) with PC value = 4.08578026551942\n",
      "Movie: Die Hard: With a Vengeance (1995) with PC value = 4.0542740094953915\n"
     ]
    }
   ],
   "source": [
    "for row in principalDf.sort_values(by='principal component 3', ascending=False).head(10).iterrows():\n",
    "    print(\"Movie: {} with PC value = {}\".format(trainset.to_raw_iid(row[0]), row[1][2]))"
   ]
  },
  {
   "cell_type": "markdown",
   "metadata": {},
   "source": [
    "It looks pretty good!\n",
    "\n",
    "PC1 seems to be related to blockbusters, PC2 to sci-fi movies and PC3 to horror movies (i.e., the patterns are not perfect; for example, we see The Godfather among the sci-fi movies, but you need to understand that we are reducting the original 20 factors in the SVD factorized matrix to 3, so some of them are going to be mixed or affected)."
   ]
  },
  {
   "cell_type": "markdown",
   "metadata": {},
   "source": [
    "For a more visual analysis, we can take the first 2 Principal Components and plot the movies according to them. We would expect to see similar movies together."
   ]
  },
  {
   "cell_type": "code",
   "execution_count": 30,
   "metadata": {},
   "outputs": [
    {
     "data": {
      "image/png": "[encoded data removed]",
      "text/plain": [
       "<Figure size 1080x1080 with 1 Axes>"
      ]
     },
     "metadata": {
      "needs_background": "light"
     },
     "output_type": "display_data"
    }
   ],
   "source": [
    "import matplotlib.pyplot as plt\n",
    "import numpy as np\n",
    "\n",
    "# Taking randomly just 100 movies to avoid overcrowding the plot\n",
    "idxs = np.random.choice(len(principalDf), 100, replace=False) \n",
    "idxs = list(range(100))\n",
    "\n",
    "# Represent the movies according to the principal components\n",
    "X = principalDf.iloc[idxs]['principal component 1'].values\n",
    "Y = principalDf.iloc[idxs]['principal component 2'].values\n",
    "\n",
    "# Plot the movies\n",
    "plt.figure(figsize=(15,15))\n",
    "plt.scatter(X, Y)\n",
    "for i, x, y in zip([trainset.to_raw_iid(idx) for idx in idxs], X, Y):\n",
    "    plt.text(x,y,i, color=np.random.rand(3)*0.7, fontsize=11)\n",
    "plt.show()"
   ]
  }
 ],
 "metadata": {
  "kernelspec": {
   "display_name": "Python 3",
   "language": "python",
   "name": "python3"
  },
  "language_info": {
   "codemirror_mode": {
    "name": "ipython",
    "version": 3
   },
   "file_extension": ".py",
   "mimetype": "text/x-python",
   "name": "python",
   "nbconvert_exporter": "python",
   "pygments_lexer": "ipython3",
   "version": "3.6.8"
  }
 },
 "nbformat": 4,
 "nbformat_minor": 4
}
